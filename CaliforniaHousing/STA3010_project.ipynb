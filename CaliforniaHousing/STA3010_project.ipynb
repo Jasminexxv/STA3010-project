{
 "cells": [
  {
   "cell_type": "code",
   "execution_count": 1,
   "metadata": {},
   "outputs": [],
   "source": [
    "import pandas as pd\n",
    "import numpy as np\n",
    "from matplotlib import pyplot as plt\n",
    "from sklearn import preprocessing\n",
    "import seaborn as sns\n"
   ]
  },
  {
   "cell_type": "code",
   "execution_count": 2,
   "metadata": {},
   "outputs": [],
   "source": [
    "data = pd.read_excel(\"cal_housing.xlsx\")"
   ]
  },
  {
   "cell_type": "code",
   "execution_count": 3,
   "metadata": {},
   "outputs": [
    {
     "ename": "KeyboardInterrupt",
     "evalue": "",
     "output_type": "error",
     "traceback": [
      "\u001b[0;31m---------------------------------------------------------------------------\u001b[0m",
      "\u001b[0;31mKeyboardInterrupt\u001b[0m                         Traceback (most recent call last)",
      "\u001b[0;32m<ipython-input-3-812568a46f73>\u001b[0m in \u001b[0;36m<module>\u001b[0;34m\u001b[0m\n\u001b[0;32m----> 1\u001b[0;31m \u001b[0mg\u001b[0m \u001b[0;34m=\u001b[0m \u001b[0msns\u001b[0m\u001b[0;34m.\u001b[0m\u001b[0mpairplot\u001b[0m\u001b[0;34m(\u001b[0m\u001b[0mdata\u001b[0m\u001b[0;34m.\u001b[0m\u001b[0miloc\u001b[0m\u001b[0;34m[\u001b[0m\u001b[0;34m:\u001b[0m\u001b[0;34m,\u001b[0m\u001b[0;36m3\u001b[0m\u001b[0;34m:\u001b[0m\u001b[0;36m7\u001b[0m\u001b[0;34m]\u001b[0m\u001b[0;34m)\u001b[0m\u001b[0;34m\u001b[0m\u001b[0;34m\u001b[0m\u001b[0m\n\u001b[0m\u001b[1;32m      2\u001b[0m \u001b[0mg\u001b[0m\u001b[0;34m.\u001b[0m\u001b[0msavefig\u001b[0m\u001b[0;34m(\u001b[0m\u001b[0;34m\"pairplot.png\"\u001b[0m\u001b[0;34m)\u001b[0m\u001b[0;34m\u001b[0m\u001b[0;34m\u001b[0m\u001b[0m\n",
      "\u001b[0;32m~/opt/anaconda3/lib/python3.7/site-packages/seaborn/axisgrid.py\u001b[0m in \u001b[0;36mpairplot\u001b[0;34m(data, hue, hue_order, palette, vars, x_vars, y_vars, kind, diag_kind, markers, height, aspect, dropna, plot_kws, diag_kws, grid_kws, size)\u001b[0m\n\u001b[1;32m   2119\u001b[0m     \u001b[0;32mif\u001b[0m \u001b[0mkind\u001b[0m \u001b[0;34m==\u001b[0m \u001b[0;34m\"scatter\"\u001b[0m\u001b[0;34m:\u001b[0m\u001b[0;34m\u001b[0m\u001b[0;34m\u001b[0m\u001b[0m\n\u001b[1;32m   2120\u001b[0m         \u001b[0;32mfrom\u001b[0m \u001b[0;34m.\u001b[0m\u001b[0mrelational\u001b[0m \u001b[0;32mimport\u001b[0m \u001b[0mscatterplot\u001b[0m  \u001b[0;31m# Avoid circular import\u001b[0m\u001b[0;34m\u001b[0m\u001b[0;34m\u001b[0m\u001b[0m\n\u001b[0;32m-> 2121\u001b[0;31m         \u001b[0mplotter\u001b[0m\u001b[0;34m(\u001b[0m\u001b[0mscatterplot\u001b[0m\u001b[0;34m,\u001b[0m \u001b[0;34m**\u001b[0m\u001b[0mplot_kws\u001b[0m\u001b[0;34m)\u001b[0m\u001b[0;34m\u001b[0m\u001b[0;34m\u001b[0m\u001b[0m\n\u001b[0m\u001b[1;32m   2122\u001b[0m     \u001b[0;32melif\u001b[0m \u001b[0mkind\u001b[0m \u001b[0;34m==\u001b[0m \u001b[0;34m\"reg\"\u001b[0m\u001b[0;34m:\u001b[0m\u001b[0;34m\u001b[0m\u001b[0;34m\u001b[0m\u001b[0m\n\u001b[1;32m   2123\u001b[0m         \u001b[0;32mfrom\u001b[0m \u001b[0;34m.\u001b[0m\u001b[0mregression\u001b[0m \u001b[0;32mimport\u001b[0m \u001b[0mregplot\u001b[0m  \u001b[0;31m# Avoid circular import\u001b[0m\u001b[0;34m\u001b[0m\u001b[0;34m\u001b[0m\u001b[0m\n",
      "\u001b[0;32m~/opt/anaconda3/lib/python3.7/site-packages/seaborn/axisgrid.py\u001b[0m in \u001b[0;36mmap_offdiag\u001b[0;34m(self, func, **kwargs)\u001b[0m\n\u001b[1;32m   1511\u001b[0m \u001b[0;34m\u001b[0m\u001b[0m\n\u001b[1;32m   1512\u001b[0m         \u001b[0mself\u001b[0m\u001b[0;34m.\u001b[0m\u001b[0mmap_lower\u001b[0m\u001b[0;34m(\u001b[0m\u001b[0mfunc\u001b[0m\u001b[0;34m,\u001b[0m \u001b[0;34m**\u001b[0m\u001b[0mkwargs\u001b[0m\u001b[0;34m)\u001b[0m\u001b[0;34m\u001b[0m\u001b[0;34m\u001b[0m\u001b[0m\n\u001b[0;32m-> 1513\u001b[0;31m         \u001b[0mself\u001b[0m\u001b[0;34m.\u001b[0m\u001b[0mmap_upper\u001b[0m\u001b[0;34m(\u001b[0m\u001b[0mfunc\u001b[0m\u001b[0;34m,\u001b[0m \u001b[0;34m**\u001b[0m\u001b[0mkwargs\u001b[0m\u001b[0;34m)\u001b[0m\u001b[0;34m\u001b[0m\u001b[0;34m\u001b[0m\u001b[0m\n\u001b[0m\u001b[1;32m   1514\u001b[0m         \u001b[0;32mreturn\u001b[0m \u001b[0mself\u001b[0m\u001b[0;34m\u001b[0m\u001b[0;34m\u001b[0m\u001b[0m\n\u001b[1;32m   1515\u001b[0m \u001b[0;34m\u001b[0m\u001b[0m\n",
      "\u001b[0;32m~/opt/anaconda3/lib/python3.7/site-packages/seaborn/axisgrid.py\u001b[0m in \u001b[0;36mmap_upper\u001b[0;34m(self, func, **kwargs)\u001b[0m\n\u001b[1;32m   1488\u001b[0m                 \u001b[0mcolor\u001b[0m \u001b[0;34m=\u001b[0m \u001b[0mself\u001b[0m\u001b[0;34m.\u001b[0m\u001b[0mpalette\u001b[0m\u001b[0;34m[\u001b[0m\u001b[0mk\u001b[0m\u001b[0;34m]\u001b[0m \u001b[0;32mif\u001b[0m \u001b[0mkw_color\u001b[0m \u001b[0;32mis\u001b[0m \u001b[0;32mNone\u001b[0m \u001b[0;32melse\u001b[0m \u001b[0mkw_color\u001b[0m\u001b[0;34m\u001b[0m\u001b[0;34m\u001b[0m\u001b[0m\n\u001b[1;32m   1489\u001b[0m                 func(data_k[x_var], data_k[y_var], label=label_k,\n\u001b[0;32m-> 1490\u001b[0;31m                      color=color, **kwargs)\n\u001b[0m\u001b[1;32m   1491\u001b[0m \u001b[0;34m\u001b[0m\u001b[0m\n\u001b[1;32m   1492\u001b[0m             \u001b[0mself\u001b[0m\u001b[0;34m.\u001b[0m\u001b[0m_clean_axis\u001b[0m\u001b[0;34m(\u001b[0m\u001b[0max\u001b[0m\u001b[0;34m)\u001b[0m\u001b[0;34m\u001b[0m\u001b[0;34m\u001b[0m\u001b[0m\n",
      "\u001b[0;32m~/opt/anaconda3/lib/python3.7/site-packages/seaborn/relational.py\u001b[0m in \u001b[0;36mscatterplot\u001b[0;34m(x, y, hue, style, size, data, palette, hue_order, hue_norm, sizes, size_order, size_norm, markers, style_order, x_bins, y_bins, units, estimator, ci, n_boot, alpha, x_jitter, y_jitter, legend, ax, **kwargs)\u001b[0m\n\u001b[1;32m   1339\u001b[0m         \u001b[0max\u001b[0m \u001b[0;34m=\u001b[0m \u001b[0mplt\u001b[0m\u001b[0;34m.\u001b[0m\u001b[0mgca\u001b[0m\u001b[0;34m(\u001b[0m\u001b[0;34m)\u001b[0m\u001b[0;34m\u001b[0m\u001b[0;34m\u001b[0m\u001b[0m\n\u001b[1;32m   1340\u001b[0m \u001b[0;34m\u001b[0m\u001b[0m\n\u001b[0;32m-> 1341\u001b[0;31m     \u001b[0mp\u001b[0m\u001b[0;34m.\u001b[0m\u001b[0mplot\u001b[0m\u001b[0;34m(\u001b[0m\u001b[0max\u001b[0m\u001b[0;34m,\u001b[0m \u001b[0mkwargs\u001b[0m\u001b[0;34m)\u001b[0m\u001b[0;34m\u001b[0m\u001b[0;34m\u001b[0m\u001b[0m\n\u001b[0m\u001b[1;32m   1342\u001b[0m \u001b[0;34m\u001b[0m\u001b[0m\n\u001b[1;32m   1343\u001b[0m     \u001b[0;32mreturn\u001b[0m \u001b[0max\u001b[0m\u001b[0;34m\u001b[0m\u001b[0;34m\u001b[0m\u001b[0m\n",
      "\u001b[0;32m~/opt/anaconda3/lib/python3.7/site-packages/seaborn/relational.py\u001b[0m in \u001b[0;36mplot\u001b[0;34m(self, ax, kws)\u001b[0m\n\u001b[1;32m    914\u001b[0m \u001b[0;34m\u001b[0m\u001b[0m\n\u001b[1;32m    915\u001b[0m         \u001b[0margs\u001b[0m \u001b[0;34m=\u001b[0m \u001b[0mnp\u001b[0m\u001b[0;34m.\u001b[0m\u001b[0masarray\u001b[0m\u001b[0;34m(\u001b[0m\u001b[0mx\u001b[0m\u001b[0;34m)\u001b[0m\u001b[0;34m,\u001b[0m \u001b[0mnp\u001b[0m\u001b[0;34m.\u001b[0m\u001b[0masarray\u001b[0m\u001b[0;34m(\u001b[0m\u001b[0my\u001b[0m\u001b[0;34m)\u001b[0m\u001b[0;34m,\u001b[0m \u001b[0mnp\u001b[0m\u001b[0;34m.\u001b[0m\u001b[0masarray\u001b[0m\u001b[0;34m(\u001b[0m\u001b[0ms\u001b[0m\u001b[0;34m)\u001b[0m\u001b[0;34m,\u001b[0m \u001b[0mnp\u001b[0m\u001b[0;34m.\u001b[0m\u001b[0masarray\u001b[0m\u001b[0;34m(\u001b[0m\u001b[0mc\u001b[0m\u001b[0;34m)\u001b[0m\u001b[0;34m\u001b[0m\u001b[0;34m\u001b[0m\u001b[0m\n\u001b[0;32m--> 916\u001b[0;31m         \u001b[0mpoints\u001b[0m \u001b[0;34m=\u001b[0m \u001b[0max\u001b[0m\u001b[0;34m.\u001b[0m\u001b[0mscatter\u001b[0m\u001b[0;34m(\u001b[0m\u001b[0;34m*\u001b[0m\u001b[0margs\u001b[0m\u001b[0;34m,\u001b[0m \u001b[0;34m**\u001b[0m\u001b[0mkws\u001b[0m\u001b[0;34m)\u001b[0m\u001b[0;34m\u001b[0m\u001b[0;34m\u001b[0m\u001b[0m\n\u001b[0m\u001b[1;32m    917\u001b[0m \u001b[0;34m\u001b[0m\u001b[0m\n\u001b[1;32m    918\u001b[0m         \u001b[0;31m# Update the paths to get different marker shapes. This has to be\u001b[0m\u001b[0;34m\u001b[0m\u001b[0;34m\u001b[0m\u001b[0;34m\u001b[0m\u001b[0m\n",
      "\u001b[0;32m~/opt/anaconda3/lib/python3.7/site-packages/matplotlib/__init__.py\u001b[0m in \u001b[0;36minner\u001b[0;34m(ax, data, *args, **kwargs)\u001b[0m\n\u001b[1;32m   1599\u001b[0m     \u001b[0;32mdef\u001b[0m \u001b[0minner\u001b[0m\u001b[0;34m(\u001b[0m\u001b[0max\u001b[0m\u001b[0;34m,\u001b[0m \u001b[0;34m*\u001b[0m\u001b[0margs\u001b[0m\u001b[0;34m,\u001b[0m \u001b[0mdata\u001b[0m\u001b[0;34m=\u001b[0m\u001b[0;32mNone\u001b[0m\u001b[0;34m,\u001b[0m \u001b[0;34m**\u001b[0m\u001b[0mkwargs\u001b[0m\u001b[0;34m)\u001b[0m\u001b[0;34m:\u001b[0m\u001b[0;34m\u001b[0m\u001b[0;34m\u001b[0m\u001b[0m\n\u001b[1;32m   1600\u001b[0m         \u001b[0;32mif\u001b[0m \u001b[0mdata\u001b[0m \u001b[0;32mis\u001b[0m \u001b[0;32mNone\u001b[0m\u001b[0;34m:\u001b[0m\u001b[0;34m\u001b[0m\u001b[0;34m\u001b[0m\u001b[0m\n\u001b[0;32m-> 1601\u001b[0;31m             \u001b[0;32mreturn\u001b[0m \u001b[0mfunc\u001b[0m\u001b[0;34m(\u001b[0m\u001b[0max\u001b[0m\u001b[0;34m,\u001b[0m \u001b[0;34m*\u001b[0m\u001b[0mmap\u001b[0m\u001b[0;34m(\u001b[0m\u001b[0msanitize_sequence\u001b[0m\u001b[0;34m,\u001b[0m \u001b[0margs\u001b[0m\u001b[0;34m)\u001b[0m\u001b[0;34m,\u001b[0m \u001b[0;34m**\u001b[0m\u001b[0mkwargs\u001b[0m\u001b[0;34m)\u001b[0m\u001b[0;34m\u001b[0m\u001b[0;34m\u001b[0m\u001b[0m\n\u001b[0m\u001b[1;32m   1602\u001b[0m \u001b[0;34m\u001b[0m\u001b[0m\n\u001b[1;32m   1603\u001b[0m         \u001b[0mbound\u001b[0m \u001b[0;34m=\u001b[0m \u001b[0mnew_sig\u001b[0m\u001b[0;34m.\u001b[0m\u001b[0mbind\u001b[0m\u001b[0;34m(\u001b[0m\u001b[0max\u001b[0m\u001b[0;34m,\u001b[0m \u001b[0;34m*\u001b[0m\u001b[0margs\u001b[0m\u001b[0;34m,\u001b[0m \u001b[0;34m**\u001b[0m\u001b[0mkwargs\u001b[0m\u001b[0;34m)\u001b[0m\u001b[0;34m\u001b[0m\u001b[0;34m\u001b[0m\u001b[0m\n",
      "\u001b[0;32m~/opt/anaconda3/lib/python3.7/site-packages/matplotlib/axes/_axes.py\u001b[0m in \u001b[0;36mscatter\u001b[0;34m(self, x, y, s, c, marker, cmap, norm, vmin, vmax, alpha, linewidths, verts, edgecolors, plotnonfinite, **kwargs)\u001b[0m\n\u001b[1;32m   4525\u001b[0m                 \u001b[0mself\u001b[0m\u001b[0;34m.\u001b[0m\u001b[0mset_ymargin\u001b[0m\u001b[0;34m(\u001b[0m\u001b[0;36m0.05\u001b[0m\u001b[0;34m)\u001b[0m\u001b[0;34m\u001b[0m\u001b[0;34m\u001b[0m\u001b[0m\n\u001b[1;32m   4526\u001b[0m \u001b[0;34m\u001b[0m\u001b[0m\n\u001b[0;32m-> 4527\u001b[0;31m         \u001b[0mself\u001b[0m\u001b[0;34m.\u001b[0m\u001b[0madd_collection\u001b[0m\u001b[0;34m(\u001b[0m\u001b[0mcollection\u001b[0m\u001b[0;34m)\u001b[0m\u001b[0;34m\u001b[0m\u001b[0;34m\u001b[0m\u001b[0m\n\u001b[0m\u001b[1;32m   4528\u001b[0m         \u001b[0mself\u001b[0m\u001b[0;34m.\u001b[0m\u001b[0mautoscale_view\u001b[0m\u001b[0;34m(\u001b[0m\u001b[0;34m)\u001b[0m\u001b[0;34m\u001b[0m\u001b[0;34m\u001b[0m\u001b[0m\n\u001b[1;32m   4529\u001b[0m \u001b[0;34m\u001b[0m\u001b[0m\n",
      "\u001b[0;32m~/opt/anaconda3/lib/python3.7/site-packages/matplotlib/axes/_base.py\u001b[0m in \u001b[0;36madd_collection\u001b[0;34m(self, collection, autolim)\u001b[0m\n\u001b[1;32m   1871\u001b[0m \u001b[0;34m\u001b[0m\u001b[0m\n\u001b[1;32m   1872\u001b[0m         \u001b[0;32mif\u001b[0m \u001b[0mautolim\u001b[0m\u001b[0;34m:\u001b[0m\u001b[0;34m\u001b[0m\u001b[0;34m\u001b[0m\u001b[0m\n\u001b[0;32m-> 1873\u001b[0;31m             \u001b[0mself\u001b[0m\u001b[0;34m.\u001b[0m\u001b[0mupdate_datalim\u001b[0m\u001b[0;34m(\u001b[0m\u001b[0mcollection\u001b[0m\u001b[0;34m.\u001b[0m\u001b[0mget_datalim\u001b[0m\u001b[0;34m(\u001b[0m\u001b[0mself\u001b[0m\u001b[0;34m.\u001b[0m\u001b[0mtransData\u001b[0m\u001b[0;34m)\u001b[0m\u001b[0;34m)\u001b[0m\u001b[0;34m\u001b[0m\u001b[0;34m\u001b[0m\u001b[0m\n\u001b[0m\u001b[1;32m   1874\u001b[0m \u001b[0;34m\u001b[0m\u001b[0m\n\u001b[1;32m   1875\u001b[0m         \u001b[0mself\u001b[0m\u001b[0;34m.\u001b[0m\u001b[0mstale\u001b[0m \u001b[0;34m=\u001b[0m \u001b[0;32mTrue\u001b[0m\u001b[0;34m\u001b[0m\u001b[0;34m\u001b[0m\u001b[0m\n",
      "\u001b[0;32m~/opt/anaconda3/lib/python3.7/site-packages/matplotlib/collections.py\u001b[0m in \u001b[0;36mget_datalim\u001b[0;34m(self, transData)\u001b[0m\n\u001b[1;32m    199\u001b[0m             result = mpath.get_path_collection_extents(\n\u001b[1;32m    200\u001b[0m                 \u001b[0mtransform\u001b[0m\u001b[0;34m.\u001b[0m\u001b[0mfrozen\u001b[0m\u001b[0;34m(\u001b[0m\u001b[0;34m)\u001b[0m\u001b[0;34m,\u001b[0m \u001b[0mpaths\u001b[0m\u001b[0;34m,\u001b[0m \u001b[0mself\u001b[0m\u001b[0;34m.\u001b[0m\u001b[0mget_transforms\u001b[0m\u001b[0;34m(\u001b[0m\u001b[0;34m)\u001b[0m\u001b[0;34m,\u001b[0m\u001b[0;34m\u001b[0m\u001b[0;34m\u001b[0m\u001b[0m\n\u001b[0;32m--> 201\u001b[0;31m                 offsets, transOffset.frozen())\n\u001b[0m\u001b[1;32m    202\u001b[0m             \u001b[0mresult\u001b[0m \u001b[0;34m=\u001b[0m \u001b[0mresult\u001b[0m\u001b[0;34m.\u001b[0m\u001b[0minverse_transformed\u001b[0m\u001b[0;34m(\u001b[0m\u001b[0mtransData\u001b[0m\u001b[0;34m)\u001b[0m\u001b[0;34m\u001b[0m\u001b[0;34m\u001b[0m\u001b[0m\n\u001b[1;32m    203\u001b[0m         \u001b[0;32melse\u001b[0m\u001b[0;34m:\u001b[0m\u001b[0;34m\u001b[0m\u001b[0;34m\u001b[0m\u001b[0m\n",
      "\u001b[0;32m~/opt/anaconda3/lib/python3.7/site-packages/matplotlib/path.py\u001b[0m in \u001b[0;36mget_path_collection_extents\u001b[0;34m(master_transform, paths, transforms, offsets, offset_transform)\u001b[0m\n\u001b[1;32m    962\u001b[0m     return Bbox.from_extents(*_path.get_path_collection_extents(\n\u001b[1;32m    963\u001b[0m         \u001b[0mmaster_transform\u001b[0m\u001b[0;34m,\u001b[0m \u001b[0mpaths\u001b[0m\u001b[0;34m,\u001b[0m \u001b[0mnp\u001b[0m\u001b[0;34m.\u001b[0m\u001b[0matleast_3d\u001b[0m\u001b[0;34m(\u001b[0m\u001b[0mtransforms\u001b[0m\u001b[0;34m)\u001b[0m\u001b[0;34m,\u001b[0m\u001b[0;34m\u001b[0m\u001b[0;34m\u001b[0m\u001b[0m\n\u001b[0;32m--> 964\u001b[0;31m         offsets, offset_transform))\n\u001b[0m\u001b[1;32m    965\u001b[0m \u001b[0;34m\u001b[0m\u001b[0m\n\u001b[1;32m    966\u001b[0m \u001b[0;34m\u001b[0m\u001b[0m\n",
      "\u001b[0;32m~/opt/anaconda3/lib/python3.7/site-packages/matplotlib/path.py\u001b[0m in \u001b[0;36mvertices\u001b[0;34m(self)\u001b[0m\n\u001b[1;32m    200\u001b[0m         \u001b[0mThe\u001b[0m \u001b[0mlist\u001b[0m \u001b[0mof\u001b[0m \u001b[0mvertices\u001b[0m \u001b[0;32min\u001b[0m \u001b[0mthe\u001b[0m\u001b[0;31m \u001b[0m\u001b[0;31m`\u001b[0m\u001b[0mPath\u001b[0m\u001b[0;31m`\u001b[0m \u001b[0;32mas\u001b[0m \u001b[0man\u001b[0m \u001b[0mNx2\u001b[0m \u001b[0mnumpy\u001b[0m \u001b[0marray\u001b[0m\u001b[0;34m.\u001b[0m\u001b[0;34m\u001b[0m\u001b[0;34m\u001b[0m\u001b[0m\n\u001b[1;32m    201\u001b[0m         \"\"\"\n\u001b[0;32m--> 202\u001b[0;31m         \u001b[0;32mreturn\u001b[0m \u001b[0mself\u001b[0m\u001b[0;34m.\u001b[0m\u001b[0m_vertices\u001b[0m\u001b[0;34m\u001b[0m\u001b[0;34m\u001b[0m\u001b[0m\n\u001b[0m\u001b[1;32m    203\u001b[0m \u001b[0;34m\u001b[0m\u001b[0m\n\u001b[1;32m    204\u001b[0m     \u001b[0;34m@\u001b[0m\u001b[0mvertices\u001b[0m\u001b[0;34m.\u001b[0m\u001b[0msetter\u001b[0m\u001b[0;34m\u001b[0m\u001b[0;34m\u001b[0m\u001b[0m\n",
      "\u001b[0;31mKeyboardInterrupt\u001b[0m: "
     ]
    },
    {
     "data": {
      "image/png": "[encoded data removed]",
      "text/plain": [
       "<Figure size 720x720 with 20 Axes>"
      ]
     },
     "metadata": {
      "needs_background": "light"
     },
     "output_type": "display_data"
    }
   ],
   "source": [
    "g = sns.pairplot(data.iloc[:,3:7])\n",
    "g.savefig(\"pairplot.png\")"
   ]
  },
  {
   "cell_type": "code",
   "execution_count": 4,
   "metadata": {},
   "outputs": [],
   "source": [
    "n = 20640\n",
    "n_train = 12384\n",
    "n_test = 8256"
   ]
  },
  {
   "cell_type": "code",
   "execution_count": 5,
   "metadata": {},
   "outputs": [],
   "source": [
    "np.random.seed(1)\n",
    "index = np.arange(n)\n",
    "np.random.shuffle(index) \n",
    "index_train = index[:n_train] \n",
    "index_test = index[n_train:]"
   ]
  },
  {
   "cell_type": "code",
   "execution_count": 6,
   "metadata": {},
   "outputs": [],
   "source": [
    "#generate data set\n",
    "D_train = data.loc[index_train,:]\n",
    "D_test = data.loc[index_test,:]"
   ]
  },
  {
   "cell_type": "code",
   "execution_count": 7,
   "metadata": {},
   "outputs": [],
   "source": [
    "X_train = np.array(D_train.iloc[:,0:8])\n",
    "#X_train = np.hstack((np.ones(n_train).reshape(n_train,1),X_train))\n",
    "y_train = np.log(np.array(D_train.iloc[:,8]))\n",
    "X_test = np.array(D_test.iloc[:,0:8])\n",
    "#X_test = np.hstack((np.ones(n_test).reshape(n_test,1),X_test))\n",
    "y_test = np.log(np.array(D_test.iloc[:,8]))"
   ]
  },
  {
   "cell_type": "code",
   "execution_count": 7,
   "metadata": {},
   "outputs": [],
   "source": [
    "X_train = np.hstack((np.ones(n_train).reshape(n_train,1),X_train))\n",
    "X_test = np.hstack((np.ones(n_test).reshape(n_test,1),X_test))"
   ]
  },
  {
   "cell_type": "code",
   "execution_count": 78,
   "metadata": {},
   "outputs": [
    {
     "data": {
      "text/html": [
       "<div>\n",
       "<style scoped>\n",
       "    .dataframe tbody tr th:only-of-type {\n",
       "        vertical-align: middle;\n",
       "    }\n",
       "\n",
       "    .dataframe tbody tr th {\n",
       "        vertical-align: top;\n",
       "    }\n",
       "\n",
       "    .dataframe thead th {\n",
       "        text-align: right;\n",
       "    }\n",
       "</style>\n",
       "<table border=\"1\" class=\"dataframe\">\n",
       "  <thead>\n",
       "    <tr style=\"text-align: right;\">\n",
       "      <th></th>\n",
       "      <th>longitude</th>\n",
       "      <th>latitude</th>\n",
       "      <th>housing_median_age</th>\n",
       "      <th>total_rooms</th>\n",
       "      <th>total_bedrooms</th>\n",
       "      <th>population</th>\n",
       "      <th>households</th>\n",
       "      <th>median_income</th>\n",
       "      <th>median_house_value</th>\n",
       "    </tr>\n",
       "  </thead>\n",
       "  <tbody>\n",
       "    <tr>\n",
       "      <td>count</td>\n",
       "      <td>20640.000000</td>\n",
       "      <td>20640.000000</td>\n",
       "      <td>20640.000000</td>\n",
       "      <td>20640.000000</td>\n",
       "      <td>20640.000000</td>\n",
       "      <td>20640.000000</td>\n",
       "      <td>20640.000000</td>\n",
       "      <td>20640.000000</td>\n",
       "      <td>20640.000000</td>\n",
       "    </tr>\n",
       "    <tr>\n",
       "      <td>mean</td>\n",
       "      <td>-119.569704</td>\n",
       "      <td>35.631861</td>\n",
       "      <td>28.639486</td>\n",
       "      <td>2635.763081</td>\n",
       "      <td>537.898014</td>\n",
       "      <td>1425.476744</td>\n",
       "      <td>499.539680</td>\n",
       "      <td>3.870671</td>\n",
       "      <td>206855.816909</td>\n",
       "    </tr>\n",
       "    <tr>\n",
       "      <td>std</td>\n",
       "      <td>2.003532</td>\n",
       "      <td>2.135952</td>\n",
       "      <td>12.585558</td>\n",
       "      <td>2181.615252</td>\n",
       "      <td>421.247906</td>\n",
       "      <td>1132.462122</td>\n",
       "      <td>382.329753</td>\n",
       "      <td>1.899822</td>\n",
       "      <td>115395.615874</td>\n",
       "    </tr>\n",
       "    <tr>\n",
       "      <td>min</td>\n",
       "      <td>-124.350000</td>\n",
       "      <td>32.540000</td>\n",
       "      <td>1.000000</td>\n",
       "      <td>2.000000</td>\n",
       "      <td>1.000000</td>\n",
       "      <td>3.000000</td>\n",
       "      <td>1.000000</td>\n",
       "      <td>0.499900</td>\n",
       "      <td>14999.000000</td>\n",
       "    </tr>\n",
       "    <tr>\n",
       "      <td>25%</td>\n",
       "      <td>-121.800000</td>\n",
       "      <td>33.930000</td>\n",
       "      <td>18.000000</td>\n",
       "      <td>1447.750000</td>\n",
       "      <td>295.000000</td>\n",
       "      <td>787.000000</td>\n",
       "      <td>280.000000</td>\n",
       "      <td>2.563400</td>\n",
       "      <td>119600.000000</td>\n",
       "    </tr>\n",
       "    <tr>\n",
       "      <td>50%</td>\n",
       "      <td>-118.490000</td>\n",
       "      <td>34.260000</td>\n",
       "      <td>29.000000</td>\n",
       "      <td>2127.000000</td>\n",
       "      <td>435.000000</td>\n",
       "      <td>1166.000000</td>\n",
       "      <td>409.000000</td>\n",
       "      <td>3.534800</td>\n",
       "      <td>179700.000000</td>\n",
       "    </tr>\n",
       "    <tr>\n",
       "      <td>75%</td>\n",
       "      <td>-118.010000</td>\n",
       "      <td>37.710000</td>\n",
       "      <td>37.000000</td>\n",
       "      <td>3148.000000</td>\n",
       "      <td>647.000000</td>\n",
       "      <td>1725.000000</td>\n",
       "      <td>605.000000</td>\n",
       "      <td>4.743250</td>\n",
       "      <td>264725.000000</td>\n",
       "    </tr>\n",
       "    <tr>\n",
       "      <td>max</td>\n",
       "      <td>-114.310000</td>\n",
       "      <td>41.950000</td>\n",
       "      <td>52.000000</td>\n",
       "      <td>39320.000000</td>\n",
       "      <td>6445.000000</td>\n",
       "      <td>35682.000000</td>\n",
       "      <td>6082.000000</td>\n",
       "      <td>15.000100</td>\n",
       "      <td>500001.000000</td>\n",
       "    </tr>\n",
       "  </tbody>\n",
       "</table>\n",
       "</div>"
      ],
      "text/plain": [
       "          longitude      latitude  housing_median_age   total_rooms  \\\n",
       "count  20640.000000  20640.000000        20640.000000  20640.000000   \n",
       "mean    -119.569704     35.631861           28.639486   2635.763081   \n",
       "std        2.003532      2.135952           12.585558   2181.615252   \n",
       "min     -124.350000     32.540000            1.000000      2.000000   \n",
       "25%     -121.800000     33.930000           18.000000   1447.750000   \n",
       "50%     -118.490000     34.260000           29.000000   2127.000000   \n",
       "75%     -118.010000     37.710000           37.000000   3148.000000   \n",
       "max     -114.310000     41.950000           52.000000  39320.000000   \n",
       "\n",
       "       total_bedrooms    population    households  median_income  \\\n",
       "count    20640.000000  20640.000000  20640.000000   20640.000000   \n",
       "mean       537.898014   1425.476744    499.539680       3.870671   \n",
       "std        421.247906   1132.462122    382.329753       1.899822   \n",
       "min          1.000000      3.000000      1.000000       0.499900   \n",
       "25%        295.000000    787.000000    280.000000       2.563400   \n",
       "50%        435.000000   1166.000000    409.000000       3.534800   \n",
       "75%        647.000000   1725.000000    605.000000       4.743250   \n",
       "max       6445.000000  35682.000000   6082.000000      15.000100   \n",
       "\n",
       "       median_house_value  \n",
       "count        20640.000000  \n",
       "mean        206855.816909  \n",
       "std         115395.615874  \n",
       "min          14999.000000  \n",
       "25%         119600.000000  \n",
       "50%         179700.000000  \n",
       "75%         264725.000000  \n",
       "max         500001.000000  "
      ]
     },
     "execution_count": 78,
     "metadata": {},
     "output_type": "execute_result"
    }
   ],
   "source": [
    "data.describe()"
   ]
  },
  {
   "cell_type": "code",
   "execution_count": 8,
   "metadata": {},
   "outputs": [],
   "source": [
    "#Task 1: multicolinearity\n",
    "#No standarization\n",
    "\n",
    "K = np.linalg.eig(X_train.T.dot(X_train))[0]"
   ]
  },
  {
   "cell_type": "code",
   "execution_count": 9,
   "metadata": {},
   "outputs": [
    {
     "data": {
      "text/plain": [
       "array([1.93093509e+11, 3.85730126e+09, 3.94533800e+08, 7.72182631e+07,\n",
       "       3.59079195e+07, 1.54202484e+06, 7.36251113e-01, 3.65058978e+04,\n",
       "       2.19315118e+04])"
      ]
     },
     "execution_count": 9,
     "metadata": {},
     "output_type": "execute_result"
    }
   ],
   "source": [
    "K"
   ]
  },
  {
   "cell_type": "code",
   "execution_count": 10,
   "metadata": {},
   "outputs": [
    {
     "data": {
      "text/plain": [
       "262265829776.85342"
      ]
     },
     "execution_count": 10,
     "metadata": {},
     "output_type": "execute_result"
    }
   ],
   "source": [
    "#condition number\n",
    "cdtNum = np.max(K)/np.min(K)\n",
    "cdtNum"
   ]
  },
  {
   "cell_type": "code",
   "execution_count": 18,
   "metadata": {},
   "outputs": [],
   "source": [
    "#with scaling\n"
   ]
  },
  {
   "cell_type": "code",
   "execution_count": 27,
   "metadata": {},
   "outputs": [],
   "source": [
    "Xs_train = preprocessing.scale(D_train.iloc[:,0:8])/np.sqrt(n_train)\n",
    "Xs_test = preprocessing.scale(D_test.iloc[:,0:8])/np.sqrt(n_test)"
   ]
  },
  {
   "cell_type": "code",
   "execution_count": 28,
   "metadata": {},
   "outputs": [],
   "source": [
    "ys_train = preprocessing.scale(np.log(D_train.iloc[:,8]))/np.sqrt(n_train)\n",
    "ys_test = preprocessing.scale(np.log(D_test.iloc[:,8]))/np.sqrt(n_test)"
   ]
  },
  {
   "cell_type": "code",
   "execution_count": 29,
   "metadata": {},
   "outputs": [
    {
     "data": {
      "text/plain": [
       "array([ 0.01100733, -0.01443133,  0.00412377, ..., -0.0139699 ,\n",
       "       -0.0073914 ,  0.0045241 ])"
      ]
     },
     "execution_count": 29,
     "metadata": {},
     "output_type": "execute_result"
    }
   ],
   "source": [
    "ys_train"
   ]
  },
  {
   "cell_type": "code",
   "execution_count": 30,
   "metadata": {},
   "outputs": [
    {
     "data": {
      "text/plain": [
       "4.68420163409758e-19"
      ]
     },
     "execution_count": 30,
     "metadata": {},
     "output_type": "execute_result"
    }
   ],
   "source": [
    "np.mean(ys_train)"
   ]
  },
  {
   "cell_type": "code",
   "execution_count": 31,
   "metadata": {},
   "outputs": [
    {
     "data": {
      "text/plain": [
       "12.081635646622281"
      ]
     },
     "execution_count": 31,
     "metadata": {},
     "output_type": "execute_result"
    }
   ],
   "source": [
    "np.mean(np.log(D_train.iloc[:,8]))\n"
   ]
  },
  {
   "cell_type": "code",
   "execution_count": 32,
   "metadata": {},
   "outputs": [
    {
     "data": {
      "text/plain": [
       "8.074935400516796e-05"
      ]
     },
     "execution_count": 32,
     "metadata": {},
     "output_type": "execute_result"
    }
   ],
   "source": [
    "np.var(ys_train)"
   ]
  },
  {
   "cell_type": "code",
   "execution_count": 33,
   "metadata": {},
   "outputs": [
    {
     "data": {
      "text/plain": [
       "0.00012112403100775196"
      ]
     },
     "execution_count": 33,
     "metadata": {},
     "output_type": "execute_result"
    }
   ],
   "source": [
    "np.var(ys_test)"
   ]
  },
  {
   "cell_type": "code",
   "execution_count": 34,
   "metadata": {},
   "outputs": [
    {
     "data": {
      "text/plain": [
       "252.31278536151336"
      ]
     },
     "execution_count": 34,
     "metadata": {},
     "output_type": "execute_result"
    }
   ],
   "source": [
    "K = np.linalg.eig(Xs_train.T.dot(Xs_train))[0]\n",
    "cdtNum = np.max(K)/np.min(K)\n",
    "cdtNum"
   ]
  },
  {
   "cell_type": "code",
   "execution_count": 35,
   "metadata": {},
   "outputs": [],
   "source": [
    "#multiple linear regression\n",
    "\n",
    "beta1 = np.linalg.inv(Xs_train.T.dot(Xs_train)).dot(Xs_train.T).dot(ys_train)"
   ]
  },
  {
   "cell_type": "code",
   "execution_count": 36,
   "metadata": {},
   "outputs": [
    {
     "data": {
      "text/plain": [
       "array([-0.97583031, -1.05739611,  0.07321876, -0.13234905,  0.36913081,\n",
       "       -0.32760159,  0.15126816,  0.59143277])"
      ]
     },
     "execution_count": 36,
     "metadata": {},
     "output_type": "execute_result"
    }
   ],
   "source": [
    "beta1"
   ]
  },
  {
   "cell_type": "code",
   "execution_count": 37,
   "metadata": {},
   "outputs": [],
   "source": [
    "yhat_train = Xs_train.dot(beta1)"
   ]
  },
  {
   "cell_type": "code",
   "execution_count": 38,
   "metadata": {},
   "outputs": [
    {
     "data": {
      "text/plain": [
       "0.6388941783461063"
      ]
     },
     "execution_count": 38,
     "metadata": {},
     "output_type": "execute_result"
    }
   ],
   "source": [
    "SST = np.sum((ys_train-np.mean(ys_train))**2)\n",
    "SSRes = np.sum((ys_train-yhat_train)**2)\n",
    "R2 = 1 - SSRes/SST\n",
    "R2"
   ]
  },
  {
   "cell_type": "code",
   "execution_count": 50,
   "metadata": {},
   "outputs": [
    {
     "data": {
      "text/plain": [
       "(12384,)"
      ]
     },
     "execution_count": 50,
     "metadata": {},
     "output_type": "execute_result"
    }
   ],
   "source": []
  },
  {
   "cell_type": "code",
   "execution_count": 23,
   "metadata": {},
   "outputs": [
    {
     "data": {
      "text/plain": [
       "[<matplotlib.lines.Line2D at 0x12f4ccb90>]"
      ]
     },
     "execution_count": 23,
     "metadata": {},
     "output_type": "execute_result"
    },
    {
     "data": {
      "image/png": "[encoded data removed]",
      "text/plain": [
       "<Figure size 432x288 with 1 Axes>"
      ]
     },
     "metadata": {
      "needs_background": "light"
     },
     "output_type": "display_data"
    }
   ],
   "source": [
    "plt.plot(np.sort(ys_train))"
   ]
  },
  {
   "cell_type": "code",
   "execution_count": 39,
   "metadata": {},
   "outputs": [],
   "source": [
    "p = 8"
   ]
  },
  {
   "cell_type": "code",
   "execution_count": 40,
   "metadata": {},
   "outputs": [
    {
     "data": {
      "text/plain": [
       "0.6386899329718676"
      ]
     },
     "execution_count": 40,
     "metadata": {},
     "output_type": "execute_result"
    }
   ],
   "source": [
    "R2_adj = 1-SSRes/(n_train-p)/(SST/(n_train-1))\n",
    "R2_adj"
   ]
  },
  {
   "cell_type": "code",
   "execution_count": 48,
   "metadata": {},
   "outputs": [
    {
     "data": {
      "text/plain": [
       "4.2425305144429745e-05"
      ]
     },
     "execution_count": 48,
     "metadata": {},
     "output_type": "execute_result"
    }
   ],
   "source": [
    "#test MSE\n",
    "\n",
    "yhat_test = Xs_test.dot(beta1.reshape(8,1))\n",
    "MSE = (1/n_test)*np.sum((ys_test.reshape(n_test,1)-yhat_test)**2)\n",
    "MSE\n",
    "\n",
    "#how to measure the performance???"
   ]
  },
  {
   "cell_type": "code",
   "execution_count": 42,
   "metadata": {},
   "outputs": [
    {
     "data": {
      "text/plain": [
       "array([-0.00363465,  0.00283722, -0.01536285, ..., -0.01027316,\n",
       "       -0.00456273, -0.00670186])"
      ]
     },
     "execution_count": 42,
     "metadata": {},
     "output_type": "execute_result"
    }
   ],
   "source": [
    "ys_test"
   ]
  },
  {
   "cell_type": "code",
   "execution_count": 43,
   "metadata": {},
   "outputs": [
    {
     "data": {
      "text/plain": [
       "array([[-0.00378524],\n",
       "       [-0.00237619],\n",
       "       [-0.00445609],\n",
       "       ...,\n",
       "       [-0.00669682],\n",
       "       [-0.00845092],\n",
       "       [-0.00205459]])"
      ]
     },
     "execution_count": 43,
     "metadata": {},
     "output_type": "execute_result"
    }
   ],
   "source": [
    "yhat_test"
   ]
  },
  {
   "cell_type": "code",
   "execution_count": 45,
   "metadata": {},
   "outputs": [
    {
     "data": {
      "text/plain": [
       "(8256, 8256)"
      ]
     },
     "execution_count": 45,
     "metadata": {},
     "output_type": "execute_result"
    }
   ],
   "source": []
  },
  {
   "cell_type": "code",
   "execution_count": 27,
   "metadata": {},
   "outputs": [
    {
     "data": {
      "text/plain": [
       "(8,)"
      ]
     },
     "execution_count": 27,
     "metadata": {},
     "output_type": "execute_result"
    }
   ],
   "source": [
    "np.shape(beta1)"
   ]
  },
  {
   "cell_type": "code",
   "execution_count": 20,
   "metadata": {},
   "outputs": [],
   "source": [
    "#R-student residuals\n",
    "\n",
    "#compute ei\n",
    "ei_train = (ys_train - yhat_train).reshape(n_train,1)"
   ]
  },
  {
   "cell_type": "code",
   "execution_count": 21,
   "metadata": {},
   "outputs": [],
   "source": [
    "#compute hii\n",
    "\n",
    "H_train = Xs_train.dot(np.linalg.inv(Xs_train.T.dot(Xs_train))).dot(Xs_train.T)\n",
    "\n",
    "Hii_train = np.diagonal(H_train).reshape(n_train,1)"
   ]
  },
  {
   "cell_type": "code",
   "execution_count": 22,
   "metadata": {},
   "outputs": [],
   "source": [
    "#compute S2_i\n",
    "\n",
    "S2_i = ((SSRes - ei_train**2)/(1-Hii_train))/(n_train-p-1)"
   ]
  },
  {
   "cell_type": "code",
   "execution_count": 32,
   "metadata": {},
   "outputs": [
    {
     "data": {
      "text/plain": [
       "(12384, 1)"
      ]
     },
     "execution_count": 32,
     "metadata": {},
     "output_type": "execute_result"
    }
   ],
   "source": [
    "np.shape(ei_train)"
   ]
  },
  {
   "cell_type": "code",
   "execution_count": 23,
   "metadata": {},
   "outputs": [],
   "source": [
    "#R-student residuals\n",
    "\n",
    "ti = ei_train/np.sqrt(S2_i*(1-Hii_train))"
   ]
  },
  {
   "cell_type": "code",
   "execution_count": 24,
   "metadata": {},
   "outputs": [
    {
     "data": {
      "image/png": "[encoded data removed]",
      "text/plain": [
       "<Figure size 576x432 with 1 Axes>"
      ]
     },
     "metadata": {
      "needs_background": "light"
     },
     "output_type": "display_data"
    }
   ],
   "source": [
    "#plot R-student residuals\n",
    "\n",
    "plt.figure(figsize = (8,6))\n",
    "\n",
    "plt.scatter(yhat_train.reshape(n_train,1),ti)\n",
    "plt.xlabel(\"yi^hat\")\n",
    "plt.ylabel('ti')\n",
    "plt.axhline(y=0,c=\"red\")\n",
    "plt.savefig(\"rstplot.png\")"
   ]
  },
  {
   "cell_type": "code",
   "execution_count": 33,
   "metadata": {},
   "outputs": [],
   "source": [
    "#outlier\n",
    "\n",
    "##student residuals\n",
    "\n",
    "MSRes = SSRes/(n_train-p)\n",
    "ri = ei_train/np.sqrt(1-Hii_train)"
   ]
  },
  {
   "cell_type": "code",
   "execution_count": 34,
   "metadata": {},
   "outputs": [],
   "source": [
    "#cook's measure\n",
    "\n",
    "Di = (ri**2/p)*(Hii_train/(1-Hii_train))"
   ]
  },
  {
   "cell_type": "code",
   "execution_count": 42,
   "metadata": {},
   "outputs": [
    {
     "data": {
      "text/plain": [
       "<matplotlib.collections.PathCollection at 0x126c618d0>"
      ]
     },
     "execution_count": 42,
     "metadata": {},
     "output_type": "execute_result"
    },
    {
     "data": {
      "image/png": "[encoded data removed]",
      "text/plain": [
       "<Figure size 432x288 with 1 Axes>"
      ]
     },
     "metadata": {
      "needs_background": "light"
     },
     "output_type": "display_data"
    }
   ],
   "source": [
    "plt.scatter(yhat_train,Di)"
   ]
  },
  {
   "cell_type": "code",
   "execution_count": 45,
   "metadata": {},
   "outputs": [
    {
     "data": {
      "text/plain": [
       "[]"
      ]
     },
     "execution_count": 45,
     "metadata": {},
     "output_type": "execute_result"
    }
   ],
   "source": [
    "outliers=[]\n",
    "\n",
    "for i in Di:\n",
    "    if i > (4/n_train):\n",
    "        outliers.append(i)\n",
    "outliers"
   ]
  },
  {
   "cell_type": "code",
   "execution_count": 36,
   "metadata": {},
   "outputs": [
    {
     "data": {
      "text/plain": [
       "[array([0.09197852]),\n",
       " array([0.13168929]),\n",
       " array([0.08742976]),\n",
       " array([0.05369453]),\n",
       " array([0.09462826]),\n",
       " array([0.11050288]),\n",
       " array([0.12785511]),\n",
       " array([0.05371974]),\n",
       " array([0.13866449]),\n",
       " array([0.06395767]),\n",
       " array([0.06531152]),\n",
       " array([0.121534]),\n",
       " array([0.06873436]),\n",
       " array([0.05525777]),\n",
       " array([0.06947004]),\n",
       " array([0.07270507]),\n",
       " array([0.07950088]),\n",
       " array([0.05294889]),\n",
       " array([0.08483338]),\n",
       " array([0.07420878]),\n",
       " array([0.06312113]),\n",
       " array([0.05392315]),\n",
       " array([0.05602757]),\n",
       " array([0.06717536]),\n",
       " array([0.08296477]),\n",
       " array([0.15999349]),\n",
       " array([0.08187243]),\n",
       " array([0.08596448]),\n",
       " array([0.05300178]),\n",
       " array([0.06249637]),\n",
       " array([0.05291445]),\n",
       " array([0.08954787]),\n",
       " array([0.08317727]),\n",
       " array([0.06539006]),\n",
       " array([0.05259911]),\n",
       " array([0.05738293]),\n",
       " array([0.06389739]),\n",
       " array([0.11592148]),\n",
       " array([0.08979854]),\n",
       " array([0.10438144]),\n",
       " array([0.09965372]),\n",
       " array([0.0608324]),\n",
       " array([0.05346964]),\n",
       " array([0.11495172]),\n",
       " array([0.05472241]),\n",
       " array([0.0565187]),\n",
       " array([0.05097501]),\n",
       " array([0.0603043]),\n",
       " array([0.17497591]),\n",
       " array([0.0521257]),\n",
       " array([0.09741186]),\n",
       " array([0.07537504]),\n",
       " array([0.05894094]),\n",
       " array([0.08795591]),\n",
       " array([0.65076334]),\n",
       " array([0.09811316]),\n",
       " array([0.06152408]),\n",
       " array([0.05084596]),\n",
       " array([0.11705909]),\n",
       " array([0.07011579]),\n",
       " array([0.0613055]),\n",
       " array([0.05304751]),\n",
       " array([0.08902131]),\n",
       " array([0.10011778]),\n",
       " array([0.05388168]),\n",
       " array([0.06316515]),\n",
       " array([0.11126591]),\n",
       " array([0.05242193]),\n",
       " array([0.0595332]),\n",
       " array([0.10410075]),\n",
       " array([0.05684172]),\n",
       " array([0.05352686]),\n",
       " array([0.20094253]),\n",
       " array([0.07603715]),\n",
       " array([0.07257206]),\n",
       " array([0.06582965]),\n",
       " array([0.08136144]),\n",
       " array([0.09820315]),\n",
       " array([0.08330919]),\n",
       " array([0.06614452]),\n",
       " array([0.09012388]),\n",
       " array([0.06646693]),\n",
       " array([0.08047582]),\n",
       " array([0.08528398]),\n",
       " array([0.08004052]),\n",
       " array([0.10277464]),\n",
       " array([0.05412454]),\n",
       " array([0.06139371]),\n",
       " array([0.06431128]),\n",
       " array([0.28364901]),\n",
       " array([0.07162402]),\n",
       " array([0.08810269]),\n",
       " array([0.05365773]),\n",
       " array([0.05420229]),\n",
       " array([0.05978267]),\n",
       " array([0.05774398]),\n",
       " array([0.05808263]),\n",
       " array([0.06886405]),\n",
       " array([0.08492986]),\n",
       " array([0.05691823]),\n",
       " array([0.05457759]),\n",
       " array([0.06444628]),\n",
       " array([0.11078902]),\n",
       " array([0.05932467]),\n",
       " array([0.06105484]),\n",
       " array([0.06940029]),\n",
       " array([0.0586986]),\n",
       " array([0.05418896]),\n",
       " array([0.10460853]),\n",
       " array([0.06105849]),\n",
       " array([0.10914569]),\n",
       " array([0.07065414]),\n",
       " array([0.10803306]),\n",
       " array([0.06921872]),\n",
       " array([0.05159469]),\n",
       " array([0.06929786]),\n",
       " array([0.05791447]),\n",
       " array([0.16412762]),\n",
       " array([0.30017389]),\n",
       " array([0.05533036]),\n",
       " array([0.09475765]),\n",
       " array([0.26680815]),\n",
       " array([0.10723105]),\n",
       " array([0.08284661]),\n",
       " array([0.05845778]),\n",
       " array([0.11485762]),\n",
       " array([0.0727711]),\n",
       " array([0.05202177]),\n",
       " array([0.10292398]),\n",
       " array([0.06289097]),\n",
       " array([0.06673441]),\n",
       " array([0.11272214]),\n",
       " array([0.05499167]),\n",
       " array([0.05274412]),\n",
       " array([0.05482476]),\n",
       " array([0.05565507]),\n",
       " array([0.07805738]),\n",
       " array([0.069464]),\n",
       " array([0.16739214]),\n",
       " array([0.09960563]),\n",
       " array([0.09518801]),\n",
       " array([0.11523104]),\n",
       " array([0.05817032]),\n",
       " array([0.05708513]),\n",
       " array([0.06353731]),\n",
       " array([0.07549556]),\n",
       " array([0.05480073]),\n",
       " array([0.05943037]),\n",
       " array([0.06212539]),\n",
       " array([0.0567893]),\n",
       " array([0.07324853]),\n",
       " array([0.06180413]),\n",
       " array([0.05593494]),\n",
       " array([0.05360765]),\n",
       " array([0.06187106]),\n",
       " array([0.07266969]),\n",
       " array([0.08526655]),\n",
       " array([0.1310775]),\n",
       " array([0.07603276]),\n",
       " array([0.05688999]),\n",
       " array([0.05446275]),\n",
       " array([0.07350529]),\n",
       " array([0.05738857]),\n",
       " array([0.05178146]),\n",
       " array([0.16604092]),\n",
       " array([0.05570597]),\n",
       " array([0.06269357]),\n",
       " array([0.05144151]),\n",
       " array([0.12775475]),\n",
       " array([0.07070876]),\n",
       " array([0.05276774]),\n",
       " array([0.08782883]),\n",
       " array([0.06626267]),\n",
       " array([0.05414224]),\n",
       " array([0.05546281]),\n",
       " array([0.05093713]),\n",
       " array([0.06990883]),\n",
       " array([0.05158543]),\n",
       " array([0.05251341]),\n",
       " array([0.06111647]),\n",
       " array([0.05274046]),\n",
       " array([0.05551723]),\n",
       " array([0.11106649]),\n",
       " array([0.09084494]),\n",
       " array([0.05617807]),\n",
       " array([0.08118021]),\n",
       " array([0.06140148]),\n",
       " array([0.13984897]),\n",
       " array([0.09775489]),\n",
       " array([0.06128907]),\n",
       " array([0.05571775]),\n",
       " array([0.0602031]),\n",
       " array([0.05505957]),\n",
       " array([0.05127446]),\n",
       " array([0.11711369]),\n",
       " array([0.05196363]),\n",
       " array([0.26696252]),\n",
       " array([0.08921697]),\n",
       " array([0.06826448]),\n",
       " array([0.14267218]),\n",
       " array([0.05763269]),\n",
       " array([0.10076393]),\n",
       " array([0.08944929]),\n",
       " array([0.12230453]),\n",
       " array([0.07764492]),\n",
       " array([0.06216105]),\n",
       " array([4.45379699]),\n",
       " array([0.05906717]),\n",
       " array([0.10164958]),\n",
       " array([0.08197189]),\n",
       " array([0.07151571]),\n",
       " array([0.05844089]),\n",
       " array([0.09756682]),\n",
       " array([0.05806524]),\n",
       " array([0.10783638]),\n",
       " array([0.34457606]),\n",
       " array([0.08333155]),\n",
       " array([0.05762683]),\n",
       " array([0.0580597]),\n",
       " array([0.05234454]),\n",
       " array([0.06998378]),\n",
       " array([0.0741759]),\n",
       " array([0.05440741]),\n",
       " array([0.09150676]),\n",
       " array([0.05803576]),\n",
       " array([0.05452405]),\n",
       " array([0.05631915]),\n",
       " array([0.05148404]),\n",
       " array([0.05435592]),\n",
       " array([0.05181673]),\n",
       " array([0.05430954]),\n",
       " array([0.05447623]),\n",
       " array([0.08787027]),\n",
       " array([0.58422279]),\n",
       " array([0.06050889]),\n",
       " array([0.51311885]),\n",
       " array([0.05329457]),\n",
       " array([0.09264321]),\n",
       " array([0.05638237]),\n",
       " array([0.0691693]),\n",
       " array([0.05744008]),\n",
       " array([0.05434007]),\n",
       " array([0.06379571]),\n",
       " array([0.0526459]),\n",
       " array([0.08770317]),\n",
       " array([0.0718324]),\n",
       " array([0.06273229]),\n",
       " array([0.11622564]),\n",
       " array([0.05506706]),\n",
       " array([0.10850271]),\n",
       " array([0.06470496]),\n",
       " array([0.06054543]),\n",
       " array([0.05870204]),\n",
       " array([0.05304432]),\n",
       " array([0.10828423]),\n",
       " array([0.05163395]),\n",
       " array([0.06506028]),\n",
       " array([0.05823261]),\n",
       " array([0.10573897]),\n",
       " array([0.07478231]),\n",
       " array([0.09958431]),\n",
       " array([0.0539648]),\n",
       " array([0.11774631]),\n",
       " array([0.1788589]),\n",
       " array([0.05557284]),\n",
       " array([0.05453632]),\n",
       " array([0.05349055]),\n",
       " array([0.05318482]),\n",
       " array([0.05470787]),\n",
       " array([0.06719198]),\n",
       " array([0.07793428]),\n",
       " array([0.09917612]),\n",
       " array([0.05391914]),\n",
       " array([0.05522663]),\n",
       " array([0.06626004]),\n",
       " array([0.05104178]),\n",
       " array([0.07872901]),\n",
       " array([0.0912291]),\n",
       " array([0.05165619]),\n",
       " array([0.06682419]),\n",
       " array([0.60672272]),\n",
       " array([0.06640555]),\n",
       " array([0.123337]),\n",
       " array([0.06311571]),\n",
       " array([0.09654288]),\n",
       " array([0.17595974]),\n",
       " array([0.06682902]),\n",
       " array([0.0796025]),\n",
       " array([0.05278026]),\n",
       " array([0.08347448]),\n",
       " array([0.10686644]),\n",
       " array([0.06145808]),\n",
       " array([0.08954453]),\n",
       " array([0.05744516]),\n",
       " array([0.12182699]),\n",
       " array([0.05306808]),\n",
       " array([0.11460582]),\n",
       " array([0.32993333]),\n",
       " array([0.05945008]),\n",
       " array([0.06327813]),\n",
       " array([0.07485535]),\n",
       " array([0.10073139]),\n",
       " array([0.05514094]),\n",
       " array([0.06640334]),\n",
       " array([0.10539765]),\n",
       " array([0.06328822]),\n",
       " array([0.09757791]),\n",
       " array([0.05905498]),\n",
       " array([0.05752392]),\n",
       " array([0.06725694]),\n",
       " array([0.09568221]),\n",
       " array([0.06229625]),\n",
       " array([0.06032396]),\n",
       " array([0.14582651]),\n",
       " array([0.05924843]),\n",
       " array([0.06673905]),\n",
       " array([0.05520669]),\n",
       " array([0.10109756]),\n",
       " array([0.1043441]),\n",
       " array([0.06047582])]"
      ]
     },
     "execution_count": 36,
     "metadata": {},
     "output_type": "execute_result"
    }
   ],
   "source": [
    "# DFFITS\n",
    "\n",
    "DFFITS = np.sqrt(Hii_train/(1-Hii_train))*ti\n",
    "\n",
    "outliers1=[]\n",
    "\n",
    "for i in DFFITS:\n",
    "    if i > 2*np.sqrt(p/n_train):\n",
    "        outliers1.append(i)\n",
    "outliers1"
   ]
  },
  {
   "cell_type": "code",
   "execution_count": 39,
   "metadata": {},
   "outputs": [
    {
     "data": {
      "text/plain": [
       "[array([0.09197852]),\n",
       " array([0.13168929]),\n",
       " array([0.08742976]),\n",
       " array([0.05369453]),\n",
       " array([0.09462826]),\n",
       " array([0.11050288]),\n",
       " array([0.12785511]),\n",
       " array([0.05371974]),\n",
       " array([0.13866449]),\n",
       " array([0.06395767]),\n",
       " array([0.06531152]),\n",
       " array([0.121534]),\n",
       " array([0.06873436]),\n",
       " array([0.05525777]),\n",
       " array([0.06947004]),\n",
       " array([0.07270507]),\n",
       " array([0.07950088]),\n",
       " array([0.05294889]),\n",
       " array([0.08483338]),\n",
       " array([0.07420878]),\n",
       " array([0.06312113]),\n",
       " array([0.05392315]),\n",
       " array([0.05602757]),\n",
       " array([0.06717536]),\n",
       " array([0.08296477]),\n",
       " array([0.15999349]),\n",
       " array([0.08187243]),\n",
       " array([0.08596448]),\n",
       " array([0.05300178]),\n",
       " array([0.06249637]),\n",
       " array([0.05291445]),\n",
       " array([0.08954787]),\n",
       " array([0.08317727]),\n",
       " array([0.06539006]),\n",
       " array([0.05259911]),\n",
       " array([0.05738293]),\n",
       " array([0.06389739]),\n",
       " array([0.11592148]),\n",
       " array([0.08979854]),\n",
       " array([0.10438144]),\n",
       " array([0.09965372]),\n",
       " array([0.0608324]),\n",
       " array([0.05346964]),\n",
       " array([0.11495172]),\n",
       " array([0.05472241]),\n",
       " array([0.0565187]),\n",
       " array([0.05097501]),\n",
       " array([0.0603043]),\n",
       " array([0.17497591]),\n",
       " array([0.0521257]),\n",
       " array([0.09741186]),\n",
       " array([0.07537504]),\n",
       " array([0.05894094]),\n",
       " array([0.08795591]),\n",
       " array([0.65076334]),\n",
       " array([0.09811316]),\n",
       " array([0.06152408]),\n",
       " array([0.05084596]),\n",
       " array([0.11705909]),\n",
       " array([0.07011579]),\n",
       " array([0.0613055]),\n",
       " array([0.05304751]),\n",
       " array([0.08902131]),\n",
       " array([0.10011778]),\n",
       " array([0.05388168]),\n",
       " array([0.06316515]),\n",
       " array([0.11126591]),\n",
       " array([0.05242193]),\n",
       " array([0.0595332]),\n",
       " array([0.10410075]),\n",
       " array([0.05684172]),\n",
       " array([0.05352686]),\n",
       " array([0.20094253]),\n",
       " array([0.07603715]),\n",
       " array([0.07257206]),\n",
       " array([0.06582965]),\n",
       " array([0.08136144]),\n",
       " array([0.09820315]),\n",
       " array([0.08330919]),\n",
       " array([0.06614452]),\n",
       " array([0.09012388]),\n",
       " array([0.06646693]),\n",
       " array([0.08047582]),\n",
       " array([0.08528398]),\n",
       " array([0.08004052]),\n",
       " array([0.10277464]),\n",
       " array([0.05412454]),\n",
       " array([0.06139371]),\n",
       " array([0.06431128]),\n",
       " array([0.28364901]),\n",
       " array([0.07162402]),\n",
       " array([0.08810269]),\n",
       " array([0.05365773]),\n",
       " array([0.05420229]),\n",
       " array([0.05978267]),\n",
       " array([0.05774398]),\n",
       " array([0.05808263]),\n",
       " array([0.06886405]),\n",
       " array([0.08492986]),\n",
       " array([0.05691823]),\n",
       " array([0.05457759]),\n",
       " array([0.06444628]),\n",
       " array([0.11078902]),\n",
       " array([0.05932467]),\n",
       " array([0.06105484]),\n",
       " array([0.06940029]),\n",
       " array([0.0586986]),\n",
       " array([0.05418896]),\n",
       " array([0.10460853]),\n",
       " array([0.06105849]),\n",
       " array([0.10914569]),\n",
       " array([0.07065414]),\n",
       " array([0.10803306]),\n",
       " array([0.06921872]),\n",
       " array([0.05159469]),\n",
       " array([0.06929786]),\n",
       " array([0.05791447]),\n",
       " array([0.16412762]),\n",
       " array([0.30017389]),\n",
       " array([0.05533036]),\n",
       " array([0.09475765]),\n",
       " array([0.26680815]),\n",
       " array([0.10723105]),\n",
       " array([0.08284661]),\n",
       " array([0.05845778]),\n",
       " array([0.11485762]),\n",
       " array([0.0727711]),\n",
       " array([0.05202177]),\n",
       " array([0.10292398]),\n",
       " array([0.06289097]),\n",
       " array([0.06673441]),\n",
       " array([0.11272214]),\n",
       " array([0.05499167]),\n",
       " array([0.05274412]),\n",
       " array([0.05482476]),\n",
       " array([0.05565507]),\n",
       " array([0.07805738]),\n",
       " array([0.069464]),\n",
       " array([0.16739214]),\n",
       " array([0.09960563]),\n",
       " array([0.09518801]),\n",
       " array([0.11523104]),\n",
       " array([0.05817032]),\n",
       " array([0.05708513]),\n",
       " array([0.06353731]),\n",
       " array([0.07549556]),\n",
       " array([0.05480073]),\n",
       " array([0.05943037]),\n",
       " array([0.06212539]),\n",
       " array([0.0567893]),\n",
       " array([0.07324853]),\n",
       " array([0.06180413]),\n",
       " array([0.05593494]),\n",
       " array([0.05360765]),\n",
       " array([0.06187106]),\n",
       " array([0.07266969]),\n",
       " array([0.08526655]),\n",
       " array([0.1310775]),\n",
       " array([0.07603276]),\n",
       " array([0.05688999]),\n",
       " array([0.05446275]),\n",
       " array([0.07350529]),\n",
       " array([0.05738857]),\n",
       " array([0.05178146]),\n",
       " array([0.16604092]),\n",
       " array([0.05570597]),\n",
       " array([0.06269357]),\n",
       " array([0.05144151]),\n",
       " array([0.12775475]),\n",
       " array([0.07070876]),\n",
       " array([0.05276774]),\n",
       " array([0.08782883]),\n",
       " array([0.06626267]),\n",
       " array([0.05414224]),\n",
       " array([0.05546281]),\n",
       " array([0.05093713]),\n",
       " array([0.06990883]),\n",
       " array([0.05158543]),\n",
       " array([0.05251341]),\n",
       " array([0.06111647]),\n",
       " array([0.05274046]),\n",
       " array([0.05551723]),\n",
       " array([0.11106649]),\n",
       " array([0.09084494]),\n",
       " array([0.05617807]),\n",
       " array([0.08118021]),\n",
       " array([0.06140148]),\n",
       " array([0.13984897]),\n",
       " array([0.09775489]),\n",
       " array([0.06128907]),\n",
       " array([0.05571775]),\n",
       " array([0.0602031]),\n",
       " array([0.05505957]),\n",
       " array([0.05127446]),\n",
       " array([0.11711369]),\n",
       " array([0.05196363]),\n",
       " array([0.26696252]),\n",
       " array([0.08921697]),\n",
       " array([0.06826448]),\n",
       " array([0.14267218]),\n",
       " array([0.05763269]),\n",
       " array([0.10076393]),\n",
       " array([0.08944929]),\n",
       " array([0.12230453]),\n",
       " array([0.07764492]),\n",
       " array([0.06216105]),\n",
       " array([4.45379699]),\n",
       " array([0.05906717]),\n",
       " array([0.10164958]),\n",
       " array([0.08197189]),\n",
       " array([0.07151571]),\n",
       " array([0.05844089]),\n",
       " array([0.09756682]),\n",
       " array([0.05806524]),\n",
       " array([0.10783638]),\n",
       " array([0.34457606]),\n",
       " array([0.08333155]),\n",
       " array([0.05762683]),\n",
       " array([0.0580597]),\n",
       " array([0.05234454]),\n",
       " array([0.06998378]),\n",
       " array([0.0741759]),\n",
       " array([0.05440741]),\n",
       " array([0.09150676]),\n",
       " array([0.05803576]),\n",
       " array([0.05452405]),\n",
       " array([0.05631915]),\n",
       " array([0.05148404]),\n",
       " array([0.05435592]),\n",
       " array([0.05181673]),\n",
       " array([0.05430954]),\n",
       " array([0.05447623]),\n",
       " array([0.08787027]),\n",
       " array([0.58422279]),\n",
       " array([0.06050889]),\n",
       " array([0.51311885]),\n",
       " array([0.05329457]),\n",
       " array([0.09264321]),\n",
       " array([0.05638237]),\n",
       " array([0.0691693]),\n",
       " array([0.05744008]),\n",
       " array([0.05434007]),\n",
       " array([0.06379571]),\n",
       " array([0.0526459]),\n",
       " array([0.08770317]),\n",
       " array([0.0718324]),\n",
       " array([0.06273229]),\n",
       " array([0.11622564]),\n",
       " array([0.05506706]),\n",
       " array([0.10850271]),\n",
       " array([0.06470496]),\n",
       " array([0.06054543]),\n",
       " array([0.05870204]),\n",
       " array([0.05304432]),\n",
       " array([0.10828423]),\n",
       " array([0.05163395]),\n",
       " array([0.06506028]),\n",
       " array([0.05823261]),\n",
       " array([0.10573897]),\n",
       " array([0.07478231]),\n",
       " array([0.09958431]),\n",
       " array([0.0539648]),\n",
       " array([0.11774631]),\n",
       " array([0.1788589]),\n",
       " array([0.05557284]),\n",
       " array([0.05453632]),\n",
       " array([0.05349055]),\n",
       " array([0.05318482]),\n",
       " array([0.05470787]),\n",
       " array([0.06719198]),\n",
       " array([0.07793428]),\n",
       " array([0.09917612]),\n",
       " array([0.05391914]),\n",
       " array([0.05522663]),\n",
       " array([0.06626004]),\n",
       " array([0.05104178]),\n",
       " array([0.07872901]),\n",
       " array([0.0912291]),\n",
       " array([0.05165619]),\n",
       " array([0.06682419]),\n",
       " array([0.60672272]),\n",
       " array([0.06640555]),\n",
       " array([0.123337]),\n",
       " array([0.06311571]),\n",
       " array([0.09654288]),\n",
       " array([0.17595974]),\n",
       " array([0.06682902]),\n",
       " array([0.0796025]),\n",
       " array([0.05278026]),\n",
       " array([0.08347448]),\n",
       " array([0.10686644]),\n",
       " array([0.06145808]),\n",
       " array([0.08954453]),\n",
       " array([0.05744516]),\n",
       " array([0.12182699]),\n",
       " array([0.05306808]),\n",
       " array([0.11460582]),\n",
       " array([0.32993333]),\n",
       " array([0.05945008]),\n",
       " array([0.06327813]),\n",
       " array([0.07485535]),\n",
       " array([0.10073139]),\n",
       " array([0.05514094]),\n",
       " array([0.06640334]),\n",
       " array([0.10539765]),\n",
       " array([0.06328822]),\n",
       " array([0.09757791]),\n",
       " array([0.05905498]),\n",
       " array([0.05752392]),\n",
       " array([0.06725694]),\n",
       " array([0.09568221]),\n",
       " array([0.06229625]),\n",
       " array([0.06032396]),\n",
       " array([0.14582651]),\n",
       " array([0.05924843]),\n",
       " array([0.06673905]),\n",
       " array([0.05520669]),\n",
       " array([0.10109756]),\n",
       " array([0.1043441]),\n",
       " array([0.06047582])]"
      ]
     },
     "execution_count": 39,
     "metadata": {},
     "output_type": "execute_result"
    }
   ],
   "source": [
    "outliers1"
   ]
  },
  {
   "cell_type": "code",
   "execution_count": 35,
   "metadata": {},
   "outputs": [
    {
     "data": {
      "image/png": "[encoded data removed]",
      "text/plain": [
       "<Figure size 720x720 with 1 Axes>"
      ]
     },
     "metadata": {
      "needs_background": "light"
     },
     "output_type": "display_data"
    }
   ],
   "source": [
    "#normal probability plot\n",
    "\n",
    "Pi = (np.arange(1,n_train+1)-0.5)/n_train\n",
    "\n",
    "plt.figure(figsize = (10,10))\n",
    "\n",
    "plt.scatter(sorted(ti),Pi)\n",
    "plt.xlabel(\"R-student residuals\")\n",
    "plt.ylabel('cdf')\n",
    "\n",
    "plt.savefig(\"nmplot.png\")"
   ]
  },
  {
   "cell_type": "code",
   "execution_count": 30,
   "metadata": {},
   "outputs": [
    {
     "data": {
      "text/plain": [
       "[array([-7.3584497]),\n",
       " array([-7.05153689]),\n",
       " array([-6.29317477]),\n",
       " array([-5.3341885]),\n",
       " array([-5.28667245]),\n",
       " array([-5.11797697]),\n",
       " array([-5.05431379]),\n",
       " array([-5.03851771]),\n",
       " array([-4.95053073]),\n",
       " array([-4.92955418]),\n",
       " array([-4.86717832]),\n",
       " array([-4.85057871]),\n",
       " array([-4.485118]),\n",
       " array([-4.36570025]),\n",
       " array([-4.03803866]),\n",
       " array([-3.99337293]),\n",
       " array([-3.86618825]),\n",
       " array([-3.73390226]),\n",
       " array([-3.68222648]),\n",
       " array([-3.67752062]),\n",
       " array([-3.67008826]),\n",
       " array([-3.6630314]),\n",
       " array([-3.6593443]),\n",
       " array([-3.62219463]),\n",
       " array([-3.52611872]),\n",
       " array([-3.52369621]),\n",
       " array([-3.43943758]),\n",
       " array([-3.33495849]),\n",
       " array([-3.33190532]),\n",
       " array([-3.3075218]),\n",
       " array([-3.27660564]),\n",
       " array([-3.253492]),\n",
       " array([-3.24606252]),\n",
       " array([-3.22459411]),\n",
       " array([-3.22346237]),\n",
       " array([-3.2085646]),\n",
       " array([-3.20834288]),\n",
       " array([-3.18062479]),\n",
       " array([-3.17819458]),\n",
       " array([-3.14359351]),\n",
       " array([-3.13252421]),\n",
       " array([-3.13181408]),\n",
       " array([-3.12315155]),\n",
       " array([-3.09772144]),\n",
       " array([-3.09333911]),\n",
       " array([-3.0839093]),\n",
       " array([-3.07917824]),\n",
       " array([-3.07421142]),\n",
       " array([-3.06934535]),\n",
       " array([-3.06427945]),\n",
       " array([-3.06331589]),\n",
       " array([-3.06064541]),\n",
       " array([-3.03270783]),\n",
       " array([-3.03181355]),\n",
       " array([-3.02962624]),\n",
       " array([-3.02836321]),\n",
       " array([-3.02816814]),\n",
       " array([-3.02496668]),\n",
       " array([-3.02089676]),\n",
       " array([-3.0170472]),\n",
       " array([-3.01646418]),\n",
       " array([-3.00682541]),\n",
       " array([-3.00654649]),\n",
       " array([-2.99868431]),\n",
       " array([-2.99518426]),\n",
       " array([-2.99422029]),\n",
       " array([-2.97957085]),\n",
       " array([-2.9788484]),\n",
       " array([-2.97509891]),\n",
       " array([-2.96455312]),\n",
       " array([-2.95593285]),\n",
       " array([-2.94657569]),\n",
       " array([-2.93745968]),\n",
       " array([-2.92824936]),\n",
       " array([-2.92168673]),\n",
       " array([-2.91332369]),\n",
       " array([-2.8771206]),\n",
       " array([-2.87014549]),\n",
       " array([-2.85939575]),\n",
       " array([-2.84016059]),\n",
       " array([-2.82801776]),\n",
       " array([-2.80919218]),\n",
       " array([-2.8053075]),\n",
       " array([-2.80150081]),\n",
       " array([-2.76431772]),\n",
       " array([-2.75437663]),\n",
       " array([-2.74161343]),\n",
       " array([-2.74064284]),\n",
       " array([-2.74021586]),\n",
       " array([-2.7350516]),\n",
       " array([-2.73355392]),\n",
       " array([-2.73282334]),\n",
       " array([-2.71074045]),\n",
       " array([-2.70591983]),\n",
       " array([-2.69665582]),\n",
       " array([-2.69168389]),\n",
       " array([-2.68829394]),\n",
       " array([-2.68458095]),\n",
       " array([-2.67697091]),\n",
       " array([-2.67034654]),\n",
       " array([-2.65473706]),\n",
       " array([-2.65047698]),\n",
       " array([-2.64183855]),\n",
       " array([-2.63328157]),\n",
       " array([-2.615816]),\n",
       " array([-2.6050094]),\n",
       " array([-2.60197875]),\n",
       " array([-2.59698885]),\n",
       " array([-2.59681486]),\n",
       " array([-2.59432772]),\n",
       " array([-2.57505907]),\n",
       " array([-2.56358508]),\n",
       " array([-2.56250922]),\n",
       " array([-2.53522249]),\n",
       " array([-2.52570778]),\n",
       " array([-2.51790358]),\n",
       " array([-2.51755421]),\n",
       " array([-2.50797734]),\n",
       " array([-2.50770694]),\n",
       " array([-2.50049504]),\n",
       " array([-2.49766613]),\n",
       " array([-2.49350459]),\n",
       " array([-2.48151431]),\n",
       " array([-2.47882534]),\n",
       " array([-2.4760166]),\n",
       " array([-2.45868358]),\n",
       " array([-2.45539609]),\n",
       " array([-2.44647135]),\n",
       " array([-2.44607254]),\n",
       " array([-2.44379578]),\n",
       " array([-2.439073]),\n",
       " array([-2.42381303]),\n",
       " array([-2.42216632]),\n",
       " array([-2.42035147]),\n",
       " array([-2.41032043]),\n",
       " array([-2.41004137]),\n",
       " array([-2.40863902]),\n",
       " array([-2.40165896]),\n",
       " array([-2.39796414]),\n",
       " array([-2.38957961]),\n",
       " array([-2.38896005]),\n",
       " array([-2.38209828]),\n",
       " array([-2.38165655]),\n",
       " array([-2.3751246]),\n",
       " array([-2.37424824]),\n",
       " array([-2.37351566]),\n",
       " array([-2.36851316]),\n",
       " array([-2.36561294]),\n",
       " array([-2.35981977]),\n",
       " array([-2.35976936]),\n",
       " array([-2.35854345]),\n",
       " array([-2.35753708]),\n",
       " array([-2.35742547]),\n",
       " array([-2.35599039]),\n",
       " array([-2.3500281]),\n",
       " array([-2.34146162]),\n",
       " array([-2.3403507]),\n",
       " array([-2.33844201]),\n",
       " array([-2.32931707]),\n",
       " array([-2.32595013]),\n",
       " array([-2.32360029]),\n",
       " array([-2.32331306]),\n",
       " array([-2.32006546]),\n",
       " array([-2.3196843]),\n",
       " array([-2.31313289]),\n",
       " array([-2.31167731]),\n",
       " array([-2.30744455]),\n",
       " array([-2.30643903]),\n",
       " array([-2.30446437]),\n",
       " array([-2.29689242]),\n",
       " array([-2.29437635]),\n",
       " array([-2.29361293]),\n",
       " array([-2.29164002]),\n",
       " array([-2.29102059]),\n",
       " array([-2.28753633]),\n",
       " array([-2.28555207]),\n",
       " array([-2.27850468]),\n",
       " array([-2.27574568]),\n",
       " array([-2.27410925]),\n",
       " array([-2.26308789]),\n",
       " array([-2.26187229]),\n",
       " array([-2.26015583]),\n",
       " array([-2.25924025]),\n",
       " array([-2.2591992]),\n",
       " array([-2.25843176]),\n",
       " array([-2.25753938]),\n",
       " array([-2.25271389]),\n",
       " array([-2.2520559]),\n",
       " array([-2.24122497]),\n",
       " array([-2.24088319]),\n",
       " array([-2.23772745]),\n",
       " array([-2.2342653]),\n",
       " array([-2.22565448]),\n",
       " array([-2.22424495]),\n",
       " array([-2.22267529]),\n",
       " array([-2.22223745]),\n",
       " array([-2.21970416]),\n",
       " array([-2.21925614]),\n",
       " array([-2.21488586]),\n",
       " array([-2.21348847]),\n",
       " array([-2.21286763]),\n",
       " array([-2.21200095]),\n",
       " array([-2.2079439]),\n",
       " array([-2.20787881]),\n",
       " array([-2.20595683]),\n",
       " array([-2.19899923]),\n",
       " array([-2.19521628]),\n",
       " array([-2.19520487]),\n",
       " array([-2.19473567]),\n",
       " array([-2.19289852]),\n",
       " array([-2.19153461]),\n",
       " array([-2.19004393]),\n",
       " array([-2.18765687]),\n",
       " array([-2.18334539]),\n",
       " array([-2.17885184]),\n",
       " array([-2.17654205]),\n",
       " array([-2.17584008]),\n",
       " array([-2.1737026]),\n",
       " array([-2.17097383]),\n",
       " array([-2.169012]),\n",
       " array([-2.16666904]),\n",
       " array([-2.16631435]),\n",
       " array([-2.15809776]),\n",
       " array([-2.15751932]),\n",
       " array([-2.15316463]),\n",
       " array([-2.15245373]),\n",
       " array([-2.15235091]),\n",
       " array([-2.15091145]),\n",
       " array([-2.14750055]),\n",
       " array([-2.13855312]),\n",
       " array([-2.13810262]),\n",
       " array([-2.13409344]),\n",
       " array([-2.133171]),\n",
       " array([-2.12593282]),\n",
       " array([-2.12532713]),\n",
       " array([-2.11386526]),\n",
       " array([-2.11379511]),\n",
       " array([-2.11273864]),\n",
       " array([-2.11113351]),\n",
       " array([-2.10857925]),\n",
       " array([-2.10854349]),\n",
       " array([-2.10741226]),\n",
       " array([-2.10401513]),\n",
       " array([-2.09905505]),\n",
       " array([-2.09823798]),\n",
       " array([-2.09748905]),\n",
       " array([-2.09639059]),\n",
       " array([-2.09489391]),\n",
       " array([-2.08481164]),\n",
       " array([-2.08389772]),\n",
       " array([-2.08332291]),\n",
       " array([-2.08305049]),\n",
       " array([-2.08077664]),\n",
       " array([-2.08018862]),\n",
       " array([-2.07999813]),\n",
       " array([-2.07887432]),\n",
       " array([-2.07787546]),\n",
       " array([-2.07705287]),\n",
       " array([-2.070875]),\n",
       " array([-2.07028555]),\n",
       " array([-2.06523015]),\n",
       " array([-2.06484508]),\n",
       " array([-2.06431996]),\n",
       " array([-2.06091202]),\n",
       " array([-2.060689]),\n",
       " array([-2.0598673]),\n",
       " array([-2.059848]),\n",
       " array([-2.05931123]),\n",
       " array([-2.05900308]),\n",
       " array([-2.05808462]),\n",
       " array([-2.05806029]),\n",
       " array([-2.05787888]),\n",
       " array([-2.05704523]),\n",
       " array([-2.05533206]),\n",
       " array([-2.05378464]),\n",
       " array([-2.05328884]),\n",
       " array([-2.04980317]),\n",
       " array([-2.04574577]),\n",
       " array([-2.04325024]),\n",
       " array([-2.04313532]),\n",
       " array([-2.04249529]),\n",
       " array([-2.04148146]),\n",
       " array([-2.03283001]),\n",
       " array([-2.0293783]),\n",
       " array([-2.02644229]),\n",
       " array([-2.02544616]),\n",
       " array([-2.02386133]),\n",
       " array([-2.02365953]),\n",
       " array([-2.0222202]),\n",
       " array([-2.02017872]),\n",
       " array([-2.0197912]),\n",
       " array([-2.01712463]),\n",
       " array([-2.01420948]),\n",
       " array([-2.01411562]),\n",
       " array([-2.01400764]),\n",
       " array([-2.01354384]),\n",
       " array([-2.01283444]),\n",
       " array([-2.01235962]),\n",
       " array([-2.01016843]),\n",
       " array([-2.01009525]),\n",
       " array([-2.00699692]),\n",
       " array([-2.00348082]),\n",
       " array([-2.00277204]),\n",
       " array([-1.9987803]),\n",
       " array([-1.99780834]),\n",
       " array([-1.99698435]),\n",
       " array([-1.99562949]),\n",
       " array([-1.99340556]),\n",
       " array([-1.9933917]),\n",
       " array([-1.9933912]),\n",
       " array([-1.98797978]),\n",
       " array([-1.98736162]),\n",
       " array([-1.98490832]),\n",
       " array([-1.98454268]),\n",
       " array([-1.98362634]),\n",
       " array([-1.98213975]),\n",
       " array([-1.98027923]),\n",
       " array([-1.97494414]),\n",
       " array([-1.97301563]),\n",
       " array([-1.97237266]),\n",
       " array([-1.97094224]),\n",
       " array([-1.96704275]),\n",
       " array([-1.96208546]),\n",
       " array([-1.96042649]),\n",
       " array([-1.95952255]),\n",
       " array([-1.95841592]),\n",
       " array([-1.95800965]),\n",
       " array([-1.95404723]),\n",
       " array([-1.95194192]),\n",
       " array([-1.94645534]),\n",
       " array([-1.94426434]),\n",
       " array([-1.94368468]),\n",
       " array([-1.94223665]),\n",
       " array([-1.94024596]),\n",
       " array([-1.93975405]),\n",
       " array([-1.93947274]),\n",
       " array([-1.93814714]),\n",
       " array([-1.93785372]),\n",
       " array([-1.9357526]),\n",
       " array([-1.93227337]),\n",
       " array([-1.93011654]),\n",
       " array([-1.92956824]),\n",
       " array([-1.92602903]),\n",
       " array([-1.92136448]),\n",
       " array([-1.92010537]),\n",
       " array([-1.91787998]),\n",
       " array([-1.91678818]),\n",
       " array([-1.91616643]),\n",
       " array([-1.91486366]),\n",
       " array([-1.91433434]),\n",
       " array([-1.91389448]),\n",
       " array([-1.91361695]),\n",
       " array([-1.91290748]),\n",
       " array([-1.91264615]),\n",
       " array([-1.91232348]),\n",
       " array([-1.91224762]),\n",
       " array([-1.91094225]),\n",
       " array([-1.91051216]),\n",
       " array([-1.90189191]),\n",
       " array([-1.89989608]),\n",
       " array([-1.89931841]),\n",
       " array([-1.89889078]),\n",
       " array([-1.89843034]),\n",
       " array([-1.89809276]),\n",
       " array([-1.8965324]),\n",
       " array([-1.89357187]),\n",
       " array([-1.89163777]),\n",
       " array([-1.89065555]),\n",
       " array([-1.88847116]),\n",
       " array([-1.88832312]),\n",
       " array([-1.88780307]),\n",
       " array([-1.88767245]),\n",
       " array([-1.88727821]),\n",
       " array([-1.88461984]),\n",
       " array([-1.88355974]),\n",
       " array([-1.8831934]),\n",
       " array([-1.88281644]),\n",
       " array([-1.88242088]),\n",
       " array([-1.87922794]),\n",
       " array([-1.87874343]),\n",
       " array([-1.87723701]),\n",
       " array([-1.87407177]),\n",
       " array([-1.87327205]),\n",
       " array([-1.87191034]),\n",
       " array([-1.87102483]),\n",
       " array([-1.86941296]),\n",
       " array([-1.86928692]),\n",
       " array([-1.86774435]),\n",
       " array([-1.86703203]),\n",
       " array([-1.86533609]),\n",
       " array([-1.86497566]),\n",
       " array([-1.86492786]),\n",
       " array([-1.86469025]),\n",
       " array([-1.86455149]),\n",
       " array([-1.86412813]),\n",
       " array([-1.86274362]),\n",
       " array([-1.86194128]),\n",
       " array([-1.85893881]),\n",
       " array([-1.85644318]),\n",
       " array([-1.85399615]),\n",
       " array([-1.85274933]),\n",
       " array([-1.85227072]),\n",
       " array([-1.850818]),\n",
       " array([-1.85043043]),\n",
       " array([-1.84931023]),\n",
       " array([-1.84909951]),\n",
       " array([-1.84853089]),\n",
       " array([-1.84505455]),\n",
       " array([-1.84162802]),\n",
       " array([-1.84158948]),\n",
       " array([-1.83932313]),\n",
       " array([-1.8374684]),\n",
       " array([-1.83732308]),\n",
       " array([-1.83668848]),\n",
       " array([-1.83628595]),\n",
       " array([-1.83580806]),\n",
       " array([-1.83550462]),\n",
       " array([-1.83463259]),\n",
       " array([-1.83215269]),\n",
       " array([-1.82789481]),\n",
       " array([-1.82766715]),\n",
       " array([-1.82763929]),\n",
       " array([-1.82558574]),\n",
       " array([-1.82338324]),\n",
       " array([-1.82187123]),\n",
       " array([-1.82109327]),\n",
       " array([-1.8197353]),\n",
       " array([-1.81923117]),\n",
       " array([-1.81751272]),\n",
       " array([-1.81155883]),\n",
       " array([-1.80889369]),\n",
       " array([-1.80840779]),\n",
       " array([-1.8078632]),\n",
       " array([-1.80690834]),\n",
       " array([-1.80646394]),\n",
       " array([-1.80490854]),\n",
       " array([-1.80483461]),\n",
       " array([-1.80298413]),\n",
       " array([-1.80257163]),\n",
       " array([-1.80112514]),\n",
       " array([-1.8005766]),\n",
       " array([-1.79837741]),\n",
       " array([-1.79511396]),\n",
       " array([-1.79464467]),\n",
       " array([-1.79394502]),\n",
       " array([-1.78665086]),\n",
       " array([-1.78556779]),\n",
       " array([-1.78551679]),\n",
       " array([-1.78533493]),\n",
       " array([-1.78437329]),\n",
       " array([-1.78412049]),\n",
       " array([-1.78298577]),\n",
       " array([-1.78217606]),\n",
       " array([-1.77974609]),\n",
       " array([-1.77861197]),\n",
       " array([-1.77733148]),\n",
       " array([-1.77680694]),\n",
       " array([-1.77608625]),\n",
       " array([-1.77601423]),\n",
       " array([-1.77535998]),\n",
       " array([-1.77533199]),\n",
       " array([-1.77510106]),\n",
       " array([-1.77505539]),\n",
       " array([-1.76928441]),\n",
       " array([-1.76925857]),\n",
       " array([-1.76544973]),\n",
       " array([-1.7651354]),\n",
       " array([-1.76392572]),\n",
       " array([-1.76301455]),\n",
       " array([-1.75980915]),\n",
       " array([-1.75680868]),\n",
       " array([-1.75647547]),\n",
       " array([-1.75630553]),\n",
       " array([-1.75534448]),\n",
       " array([-1.75109664]),\n",
       " array([-1.74803001]),\n",
       " array([-1.74757104]),\n",
       " array([-1.74632207]),\n",
       " array([-1.74333905]),\n",
       " array([-1.74220037]),\n",
       " array([-1.73987042]),\n",
       " array([-1.73936213]),\n",
       " array([-1.73786022]),\n",
       " array([-1.73757404]),\n",
       " array([-1.73377767]),\n",
       " array([-1.73290213]),\n",
       " array([-1.73168663]),\n",
       " array([-1.7306482]),\n",
       " array([-1.72988309]),\n",
       " array([-1.72971801]),\n",
       " array([-1.7291096]),\n",
       " array([-1.72570768]),\n",
       " array([-1.72528083]),\n",
       " array([-1.72397546]),\n",
       " array([-1.72259215]),\n",
       " array([-1.7223171]),\n",
       " array([-1.7209024]),\n",
       " array([-1.72079718]),\n",
       " array([-1.7207228]),\n",
       " array([-1.72053788]),\n",
       " array([-1.71822975]),\n",
       " array([-1.712893]),\n",
       " array([-1.71245653]),\n",
       " array([-1.7122631]),\n",
       " array([-1.71175178]),\n",
       " array([-1.70742063]),\n",
       " array([-1.70726457]),\n",
       " array([-1.70587331]),\n",
       " array([-1.70314347]),\n",
       " array([-1.7019168]),\n",
       " array([-1.70161051]),\n",
       " array([-1.70146993]),\n",
       " array([-1.70073843]),\n",
       " array([-1.69931342]),\n",
       " array([-1.69743365]),\n",
       " array([-1.69657917]),\n",
       " array([-1.69620447]),\n",
       " array([-1.69477278]),\n",
       " array([-1.69304808]),\n",
       " array([-1.6923555]),\n",
       " array([-1.6917582]),\n",
       " array([-1.69159556]),\n",
       " array([-1.69058766]),\n",
       " array([-1.69052518]),\n",
       " array([-1.68907965]),\n",
       " array([-1.68725862]),\n",
       " array([-1.68699573]),\n",
       " array([-1.6841992]),\n",
       " array([-1.68218218]),\n",
       " array([-1.68214646]),\n",
       " array([-1.68212432]),\n",
       " array([-1.68183591]),\n",
       " array([-1.6814705]),\n",
       " array([-1.67700678]),\n",
       " array([-1.6763994]),\n",
       " array([-1.67631228]),\n",
       " array([-1.67577164]),\n",
       " array([-1.6755377]),\n",
       " array([-1.67479374]),\n",
       " array([-1.66960484]),\n",
       " array([-1.66941811]),\n",
       " array([-1.66852391]),\n",
       " array([-1.66793131]),\n",
       " array([-1.66697971]),\n",
       " array([-1.66664427]),\n",
       " array([-1.66591601]),\n",
       " array([-1.66479814]),\n",
       " array([-1.66437162]),\n",
       " array([-1.66416793]),\n",
       " array([-1.66279527]),\n",
       " array([-1.66270216]),\n",
       " array([-1.66265497]),\n",
       " array([-1.66151157]),\n",
       " array([-1.65737027]),\n",
       " array([-1.65730789]),\n",
       " array([-1.65600486]),\n",
       " array([-1.65572525]),\n",
       " array([-1.65452692]),\n",
       " array([-1.65093664]),\n",
       " array([-1.64959114]),\n",
       " array([-1.6460311]),\n",
       " array([-1.64439616]),\n",
       " array([-1.64337514]),\n",
       " array([-1.64274268]),\n",
       " array([-1.64232331]),\n",
       " array([-1.64231947]),\n",
       " array([-1.64228922]),\n",
       " array([-1.64226971]),\n",
       " array([-1.64209687]),\n",
       " array([-1.64061655]),\n",
       " array([-1.63991663]),\n",
       " array([-1.63848453]),\n",
       " array([-1.63843968]),\n",
       " array([-1.63829815]),\n",
       " array([-1.63773638]),\n",
       " array([-1.63769625]),\n",
       " array([-1.63751094]),\n",
       " array([-1.63701031]),\n",
       " array([-1.6353359]),\n",
       " array([-1.6352336]),\n",
       " array([-1.63394076]),\n",
       " array([-1.6338517]),\n",
       " array([-1.63345959]),\n",
       " array([-1.63330257]),\n",
       " array([-1.63263736]),\n",
       " array([-1.63243886]),\n",
       " array([-1.63056412]),\n",
       " array([-1.62853258]),\n",
       " array([-1.62800992]),\n",
       " array([-1.62725976]),\n",
       " array([-1.62682307]),\n",
       " array([-1.62677499]),\n",
       " array([-1.62627835]),\n",
       " array([-1.62511228]),\n",
       " array([-1.62446803]),\n",
       " array([-1.62110619]),\n",
       " array([-1.6200464]),\n",
       " array([-1.61870161]),\n",
       " array([-1.61569454]),\n",
       " array([-1.61488933]),\n",
       " array([-1.61349022]),\n",
       " array([-1.61177455]),\n",
       " array([-1.61095921]),\n",
       " array([-1.61053598]),\n",
       " array([-1.60914291]),\n",
       " array([-1.60784763]),\n",
       " array([-1.60720427]),\n",
       " array([-1.60672924]),\n",
       " array([-1.60530899]),\n",
       " array([-1.60284686]),\n",
       " array([-1.60269991]),\n",
       " array([-1.60179405]),\n",
       " array([-1.60123197]),\n",
       " array([-1.59738123]),\n",
       " array([-1.59367964]),\n",
       " array([-1.59338581]),\n",
       " array([-1.59330548]),\n",
       " array([-1.59144961]),\n",
       " array([-1.59133979]),\n",
       " array([-1.59079369]),\n",
       " array([-1.58768106]),\n",
       " array([-1.58654427]),\n",
       " array([-1.58522707]),\n",
       " array([-1.58515232]),\n",
       " array([-1.58504307]),\n",
       " array([-1.584864]),\n",
       " array([-1.58437864]),\n",
       " array([-1.58436378]),\n",
       " array([-1.58284254]),\n",
       " array([-1.58196073]),\n",
       " array([-1.58117785]),\n",
       " array([-1.58114354]),\n",
       " array([-1.58096648]),\n",
       " array([-1.57801532]),\n",
       " array([-1.57774686]),\n",
       " array([-1.57761495]),\n",
       " array([-1.57696497]),\n",
       " array([-1.5747994]),\n",
       " array([-1.57358979]),\n",
       " array([-1.57273826]),\n",
       " array([-1.57266659]),\n",
       " array([-1.56861624]),\n",
       " array([-1.56843308]),\n",
       " array([-1.56759964]),\n",
       " array([-1.56660427]),\n",
       " array([-1.56610605]),\n",
       " array([-1.56116458]),\n",
       " array([-1.55835794]),\n",
       " array([-1.5582308]),\n",
       " array([-1.55765816]),\n",
       " array([-1.55740576]),\n",
       " array([-1.55570684]),\n",
       " array([-1.55497259]),\n",
       " array([-1.55460101]),\n",
       " array([-1.5538523]),\n",
       " array([-1.55321275]),\n",
       " array([-1.55070694]),\n",
       " array([-1.55066002]),\n",
       " array([-1.54792599]),\n",
       " array([-1.54674102]),\n",
       " array([-1.54568131]),\n",
       " array([-1.54561033]),\n",
       " array([-1.54504913]),\n",
       " array([-1.54373478]),\n",
       " array([-1.54323775]),\n",
       " array([-1.54209969]),\n",
       " array([-1.53994273]),\n",
       " array([-1.53960854]),\n",
       " array([-1.53959174]),\n",
       " array([-1.53870067]),\n",
       " array([-1.53755963]),\n",
       " array([-1.53749388]),\n",
       " array([-1.53715343]),\n",
       " array([-1.53696995]),\n",
       " array([-1.53397391]),\n",
       " array([-1.53278339]),\n",
       " array([-1.5321704]),\n",
       " array([-1.53068408]),\n",
       " array([-1.52992655]),\n",
       " array([-1.52965166]),\n",
       " array([-1.52857079]),\n",
       " array([-1.52837879]),\n",
       " array([-1.52836697]),\n",
       " array([-1.52743118]),\n",
       " array([-1.52734472]),\n",
       " array([-1.52673902]),\n",
       " array([-1.52657458]),\n",
       " array([-1.52643454]),\n",
       " array([-1.52574904]),\n",
       " array([-1.52543687]),\n",
       " array([-1.52520286]),\n",
       " array([-1.52255922]),\n",
       " array([-1.5224694]),\n",
       " array([-1.52237134]),\n",
       " array([-1.52132239]),\n",
       " array([-1.52091531]),\n",
       " array([-1.52053546]),\n",
       " array([-1.52036792]),\n",
       " array([-1.52021229]),\n",
       " array([-1.51928953]),\n",
       " array([-1.51902615]),\n",
       " array([-1.51869881]),\n",
       " array([-1.51832842]),\n",
       " array([-1.51790127]),\n",
       " array([-1.51741475]),\n",
       " array([-1.51639711]),\n",
       " array([-1.51615641]),\n",
       " array([-1.51609257]),\n",
       " array([-1.51172122]),\n",
       " array([-1.5115086]),\n",
       " array([-1.51148976]),\n",
       " array([-1.51091744]),\n",
       " array([-1.51051135]),\n",
       " array([-1.51036066]),\n",
       " array([-1.51018549]),\n",
       " array([-1.51005235]),\n",
       " array([-1.50953839]),\n",
       " array([-1.5092398]),\n",
       " array([-1.50872971]),\n",
       " array([-1.5071472]),\n",
       " array([-1.50670314]),\n",
       " array([-1.50637713]),\n",
       " array([-1.50613359]),\n",
       " array([-1.50594834]),\n",
       " array([-1.50560072]),\n",
       " array([-1.50544287]),\n",
       " array([-1.50497078]),\n",
       " array([-1.50442618]),\n",
       " array([-1.50320443]),\n",
       " array([-1.50241288]),\n",
       " array([-1.50238131]),\n",
       " array([-1.50137516]),\n",
       " array([-1.50006139]),\n",
       " array([-1.49909701]),\n",
       " array([-1.49874654]),\n",
       " array([-1.49785083]),\n",
       " array([-1.49563756]),\n",
       " array([-1.49541153]),\n",
       " array([-1.49441878]),\n",
       " array([-1.49411663]),\n",
       " array([-1.49309864]),\n",
       " array([-1.49224513]),\n",
       " array([-1.48985496]),\n",
       " array([-1.48948426]),\n",
       " array([-1.48852548]),\n",
       " array([-1.48708298]),\n",
       " array([-1.48704814]),\n",
       " array([-1.48586028]),\n",
       " array([-1.48449497]),\n",
       " array([-1.48300018]),\n",
       " array([-1.48239779]),\n",
       " array([-1.48164219]),\n",
       " array([-1.4785946]),\n",
       " array([-1.47748887]),\n",
       " array([-1.47739783]),\n",
       " array([-1.47731196]),\n",
       " array([-1.47699566]),\n",
       " array([-1.47549868]),\n",
       " array([-1.47520668]),\n",
       " array([-1.47426336]),\n",
       " array([-1.47424103]),\n",
       " array([-1.47382568]),\n",
       " array([-1.47027251]),\n",
       " array([-1.47010962]),\n",
       " array([-1.46898061]),\n",
       " array([-1.46720982]),\n",
       " array([-1.46670501]),\n",
       " array([-1.46631432]),\n",
       " array([-1.46528827]),\n",
       " array([-1.46527644]),\n",
       " array([-1.46525335]),\n",
       " array([-1.46455587]),\n",
       " array([-1.46407673]),\n",
       " array([-1.46394279]),\n",
       " array([-1.46354255]),\n",
       " array([-1.46251753]),\n",
       " array([-1.46230667]),\n",
       " array([-1.46179227]),\n",
       " array([-1.46063234]),\n",
       " array([-1.46002677]),\n",
       " array([-1.45994024]),\n",
       " array([-1.45903165]),\n",
       " array([-1.45899855]),\n",
       " array([-1.45686841]),\n",
       " array([-1.45680528]),\n",
       " array([-1.45665494]),\n",
       " array([-1.45544133]),\n",
       " array([-1.45408677]),\n",
       " array([-1.45379951]),\n",
       " array([-1.4527721]),\n",
       " array([-1.45245003]),\n",
       " array([-1.45164203]),\n",
       " array([-1.45133258]),\n",
       " array([-1.44807663]),\n",
       " array([-1.44712829]),\n",
       " array([-1.446766]),\n",
       " array([-1.44627872]),\n",
       " array([-1.4458575]),\n",
       " array([-1.44564107]),\n",
       " array([-1.44504174]),\n",
       " array([-1.44411771]),\n",
       " array([-1.44309643]),\n",
       " array([-1.44306594]),\n",
       " array([-1.44304958]),\n",
       " array([-1.44259645]),\n",
       " array([-1.44212695]),\n",
       " array([-1.44206595]),\n",
       " array([-1.44145284]),\n",
       " array([-1.44005979]),\n",
       " array([-1.43960432]),\n",
       " array([-1.4394303]),\n",
       " array([-1.43922774]),\n",
       " array([-1.4387703]),\n",
       " array([-1.4382364]),\n",
       " array([-1.43802901]),\n",
       " array([-1.43509108]),\n",
       " array([-1.43447135]),\n",
       " array([-1.43395676]),\n",
       " array([-1.43336842]),\n",
       " array([-1.43310986]),\n",
       " array([-1.43163822]),\n",
       " array([-1.43088382]),\n",
       " array([-1.43062918]),\n",
       " array([-1.42999507]),\n",
       " array([-1.42957698]),\n",
       " array([-1.42939289]),\n",
       " array([-1.4287493]),\n",
       " array([-1.4271689]),\n",
       " array([-1.42682424]),\n",
       " array([-1.42645269]),\n",
       " array([-1.42579694]),\n",
       " array([-1.4253064]),\n",
       " array([-1.42449518]),\n",
       " array([-1.42420146]),\n",
       " array([-1.42415324]),\n",
       " array([-1.42327637]),\n",
       " array([-1.42296486]),\n",
       " array([-1.42259227]),\n",
       " array([-1.42142074]),\n",
       " array([-1.42062562]),\n",
       " array([-1.42003709]),\n",
       " array([-1.41944331]),\n",
       " array([-1.41883239]),\n",
       " array([-1.41818547]),\n",
       " array([-1.41749802]),\n",
       " array([-1.41711185]),\n",
       " array([-1.41704281]),\n",
       " array([-1.41680481]),\n",
       " array([-1.41672466]),\n",
       " array([-1.41451253]),\n",
       " array([-1.41432076]),\n",
       " array([-1.41401837]),\n",
       " array([-1.41291346]),\n",
       " array([-1.41255983]),\n",
       " array([-1.41201512]),\n",
       " array([-1.41195997]),\n",
       " array([-1.41191612]),\n",
       " array([-1.41171905]),\n",
       " array([-1.40967437]),\n",
       " array([-1.40930988]),\n",
       " array([-1.40803746]),\n",
       " array([-1.40709203]),\n",
       " array([-1.40690238]),\n",
       " array([-1.40677563]),\n",
       " array([-1.40655939]),\n",
       " array([-1.40488451]),\n",
       " array([-1.40450074]),\n",
       " array([-1.40422672]),\n",
       " array([-1.40386152]),\n",
       " array([-1.40326076]),\n",
       " array([-1.4032584]),\n",
       " array([-1.4026835]),\n",
       " array([-1.40219154]),\n",
       " array([-1.40186456]),\n",
       " array([-1.40180223]),\n",
       " array([-1.40166172]),\n",
       " array([-1.40106427]),\n",
       " array([-1.40065041]),\n",
       " array([-1.3988326]),\n",
       " array([-1.39852016]),\n",
       " array([-1.39845001]),\n",
       " array([-1.39794097]),\n",
       " array([-1.3973867]),\n",
       " array([-1.39690223]),\n",
       " array([-1.39587083]),\n",
       " array([-1.39395235]),\n",
       " array([-1.39354247]),\n",
       " array([-1.39186525]),\n",
       " array([-1.3917741]),\n",
       " array([-1.3915666]),\n",
       " array([-1.39152361]),\n",
       " array([-1.39138713]),\n",
       " array([-1.39123144]),\n",
       " array([-1.39100906]),\n",
       " array([-1.39078316]),\n",
       " array([-1.39000305]),\n",
       " array([-1.38978879]),\n",
       " array([-1.38970845]),\n",
       " array([-1.38736315]),\n",
       " array([-1.38649568]),\n",
       " array([-1.3863105]),\n",
       " array([-1.38541544]),\n",
       " array([-1.38501796]),\n",
       " array([-1.38495755]),\n",
       " array([-1.38487621]),\n",
       " array([-1.38382481]),\n",
       " array([-1.38347482]),\n",
       " array([-1.38306792]),\n",
       " array([-1.38202287]),\n",
       " array([-1.38163752]),\n",
       " array([-1.38154704]),\n",
       " array([-1.38085428]),\n",
       " array([-1.38042825]),\n",
       " array([-1.38007832]),\n",
       " array([-1.38004272]),\n",
       " array([-1.37982396]),\n",
       " array([-1.37919228]),\n",
       " array([-1.37730461]),\n",
       " array([-1.37537668]),\n",
       " array([-1.37492157]),\n",
       " array([-1.37448759]),\n",
       " array([-1.373026]),\n",
       " array([-1.37299204]),\n",
       " array([-1.3703827]),\n",
       " array([-1.36938532]),\n",
       " array([-1.36919898]),\n",
       " array([-1.36828306]),\n",
       " array([-1.36817917]),\n",
       " array([-1.36816471]),\n",
       " array([-1.36775537]),\n",
       " array([-1.36755923]),\n",
       " array([-1.36499281]),\n",
       " array([-1.36410929]),\n",
       " array([-1.36383432]),\n",
       " array([-1.36184668]),\n",
       " array([-1.36111935]),\n",
       " array([-1.36111535]),\n",
       " array([-1.36086651]),\n",
       " array([-1.36074349]),\n",
       " array([-1.36031426]),\n",
       " array([-1.36025966]),\n",
       " array([-1.36021947]),\n",
       " array([-1.3599155]),\n",
       " array([-1.35980752]),\n",
       " array([-1.3596181]),\n",
       " array([-1.35902243]),\n",
       " array([-1.35720478]),\n",
       " array([-1.35662563]),\n",
       " array([-1.35539837]),\n",
       " array([-1.35513928]),\n",
       " array([-1.35470585]),\n",
       " array([-1.35464228]),\n",
       " array([-1.35432437]),\n",
       " array([-1.35400141]),\n",
       " array([-1.35380121]),\n",
       " array([-1.35358443]),\n",
       " array([-1.35338153]),\n",
       " array([-1.35324627]),\n",
       " array([-1.35322527]),\n",
       " array([-1.3528348]),\n",
       " array([-1.35278529]),\n",
       " array([-1.35250015]),\n",
       " array([-1.35219719]),\n",
       " array([-1.35196132]),\n",
       " array([-1.35082444]),\n",
       " array([-1.35072108]),\n",
       " array([-1.35068347]),\n",
       " array([-1.35058846]),\n",
       " array([-1.35020572]),\n",
       " array([-1.34970831]),\n",
       " array([-1.34960336]),\n",
       " array([-1.34770316]),\n",
       " array([-1.34765797]),\n",
       " array([-1.34654584]),\n",
       " array([-1.34499323]),\n",
       " array([-1.34432816]),\n",
       " array([-1.34412479]),\n",
       " array([-1.34358083]),\n",
       " array([-1.34333689]),\n",
       " array([-1.34331725]),\n",
       " array([-1.34317991]),\n",
       " array([-1.34200686]),\n",
       " array([-1.34198763]),\n",
       " array([-1.34186588]),\n",
       " array([-1.34073905]),\n",
       " array([-1.33990745]),\n",
       " array([-1.33965138]),\n",
       " array([-1.33809728]),\n",
       " array([-1.33781062]),\n",
       " array([-1.33554137]),\n",
       " array([-1.33454159]),\n",
       " array([-1.33421858]),\n",
       " array([-1.33399924]),\n",
       " array([-1.33369814]),\n",
       " array([-1.33364697]),\n",
       " array([-1.33292726]),\n",
       " array([-1.33191095]),\n",
       " array([-1.33123906]),\n",
       " array([-1.33094476]),\n",
       " array([-1.33089613]),\n",
       " ...]"
      ]
     },
     "execution_count": 30,
     "metadata": {},
     "output_type": "execute_result"
    }
   ],
   "source": [
    "sorted(ti)"
   ]
  },
  {
   "cell_type": "code",
   "execution_count": 34,
   "metadata": {},
   "outputs": [
    {
     "data": {
      "image/png": "[encoded data removed]",
      "text/plain": [
       "<Figure size 432x288 with 1 Axes>"
      ]
     },
     "metadata": {
      "needs_background": "light"
     },
     "output_type": "display_data"
    }
   ],
   "source": [
    "#qq-plot\n",
    "import statsmodels.api as sm\n",
    "import pylab\n",
    "sm.qqplot(ti, line='s')\n",
    "pylab.show()"
   ]
  },
  {
   "cell_type": "code",
   "execution_count": 52,
   "metadata": {},
   "outputs": [],
   "source": [
    "#polynomial regression\n",
    "\n",
    "from sklearn.preprocessing import PolynomialFeatures\n",
    "from sklearn.linear_model import LinearRegression"
   ]
  },
  {
   "cell_type": "code",
   "execution_count": 53,
   "metadata": {},
   "outputs": [
    {
     "name": "stdout",
     "output_type": "stream",
     "text": [
      "[-7.68143384e-15 -1.16020219e+00 -1.29122824e+00  8.39809936e-02\n",
      " -4.94789799e-01  6.73412337e-01 -4.71866895e-01  3.03022406e-01\n",
      "  8.06159609e-01  1.44218661e+01  4.80335564e+01 -2.67831808e+01\n",
      "  5.76921005e+01 -2.57201020e+01  6.55537923e+00 -3.65964531e+01\n",
      " -8.54408314e+00  3.38702780e+01 -3.09217551e+01  6.87551170e+01\n",
      " -4.28096101e+01  8.48595866e+00 -3.30852175e+01 -8.92626428e+00\n",
      "  2.58198218e+00 -7.72368422e+00  5.94674026e+00 -1.41831292e+01\n",
      "  1.84572486e+01  1.61638021e+00 -4.39581640e+00  1.82883344e+01\n",
      " -1.72652201e+01  1.15198765e+01  2.10690148e+01 -2.13864954e+01\n",
      "  2.14996399e+01 -4.96391605e+00 -2.22237889e+01  2.98792739e+00\n",
      " -9.72395414e+00  6.12048170e+00  3.47270648e+00  1.72719636e+00\n",
      " -1.14373507e+01]\n"
     ]
    }
   ],
   "source": [
    "#With scaling\n",
    "\n",
    "degree = 2\n",
    "\n",
    "poly = PolynomialFeatures(degree)\n",
    "X_ = poly.fit_transform(Xs_train)\n",
    "\n",
    "Y_ = ys_train\n",
    "model = LinearRegression(fit_intercept=True)\n",
    "model.fit(X_, Y_)\n",
    "print(model.coef_)"
   ]
  },
  {
   "cell_type": "code",
   "execution_count": 54,
   "metadata": {},
   "outputs": [
    {
     "data": {
      "text/plain": [
       "(45,)"
      ]
     },
     "execution_count": 54,
     "metadata": {},
     "output_type": "execute_result"
    }
   ],
   "source": [
    "np.shape(model.coef_)"
   ]
  },
  {
   "cell_type": "code",
   "execution_count": 55,
   "metadata": {},
   "outputs": [
    {
     "data": {
      "text/plain": [
       "(45, 1)"
      ]
     },
     "execution_count": 55,
     "metadata": {},
     "output_type": "execute_result"
    }
   ],
   "source": [
    "beta2 = model.coef_.reshape(45,1)\n",
    "np.shape(beta2)"
   ]
  },
  {
   "cell_type": "code",
   "execution_count": 56,
   "metadata": {},
   "outputs": [],
   "source": [
    "#with scaling\n",
    "\n",
    "X_test1 = poly.fit_transform(Xs_test)"
   ]
  },
  {
   "cell_type": "code",
   "execution_count": 57,
   "metadata": {},
   "outputs": [
    {
     "data": {
      "text/plain": [
       "3.556840906619363e-05"
      ]
     },
     "execution_count": 57,
     "metadata": {},
     "output_type": "execute_result"
    }
   ],
   "source": [
    "yhat_test1 = X_test1.dot(beta2)\n",
    "MSE = (1/n_test)*np.sum((ys_test.reshape(n_test,1)-yhat_test1)**2)\n",
    "MSE"
   ]
  },
  {
   "cell_type": "code",
   "execution_count": 59,
   "metadata": {},
   "outputs": [],
   "source": [
    "yhat_test1 = X_test1.dot(beta2)"
   ]
  },
  {
   "cell_type": "code",
   "execution_count": 60,
   "metadata": {},
   "outputs": [
    {
     "data": {
      "text/plain": [
       "0.7181219960542704"
      ]
     },
     "execution_count": 60,
     "metadata": {},
     "output_type": "execute_result"
    }
   ],
   "source": [
    "model.score(X_,Y_)"
   ]
  },
  {
   "cell_type": "code",
   "execution_count": 61,
   "metadata": {},
   "outputs": [
    {
     "data": {
      "text/plain": [
       "0.7063472147495055"
      ]
     },
     "execution_count": 61,
     "metadata": {},
     "output_type": "execute_result"
    }
   ],
   "source": [
    "SST = np.sum((ys_test-np.mean(ys_test))**2)\n",
    "SSRes = np.sum((ys_test.reshape(n_test,1)-yhat_test1)**2)\n",
    "\n",
    "R2 = 1-SSRes/SST\n",
    "R2"
   ]
  },
  {
   "cell_type": "code",
   "execution_count": 62,
   "metadata": {},
   "outputs": [
    {
     "data": {
      "text/plain": [
       "0.7061811215451783"
      ]
     },
     "execution_count": 62,
     "metadata": {},
     "output_type": "execute_result"
    }
   ],
   "source": [
    "R2_adj = 1-SSRes/(n_train-p)/(SST/(n_train-1))\n",
    "R2_adj"
   ]
  },
  {
   "cell_type": "code",
   "execution_count": 63,
   "metadata": {},
   "outputs": [],
   "source": [
    "#add L2 regulirization\n",
    "\n",
    "from sklearn.linear_model import Ridge"
   ]
  },
  {
   "cell_type": "code",
   "execution_count": 64,
   "metadata": {},
   "outputs": [
    {
     "data": {
      "text/plain": [
       "(12384, 45)"
      ]
     },
     "execution_count": 64,
     "metadata": {},
     "output_type": "execute_result"
    }
   ],
   "source": [
    "np.shape(X_)"
   ]
  },
  {
   "cell_type": "code",
   "execution_count": 65,
   "metadata": {},
   "outputs": [
    {
     "data": {
      "text/plain": [
       "Ridge(alpha=0.01, copy_X=True, fit_intercept=True, max_iter=None,\n",
       "      normalize=False, random_state=None, solver='auto', tol=0.001)"
      ]
     },
     "execution_count": 65,
     "metadata": {},
     "output_type": "execute_result"
    }
   ],
   "source": [
    "clf = Ridge(alpha=0.01)\n",
    "clf.fit(X_, ys_train)"
   ]
  },
  {
   "cell_type": "code",
   "execution_count": 66,
   "metadata": {},
   "outputs": [
    {
     "data": {
      "text/plain": [
       "0.6410869456985444"
      ]
     },
     "execution_count": 66,
     "metadata": {},
     "output_type": "execute_result"
    }
   ],
   "source": [
    "X_ = poly.fit_transform(Xs_train)\n",
    "clf.score(X_, ys_train)"
   ]
  },
  {
   "cell_type": "code",
   "execution_count": 67,
   "metadata": {},
   "outputs": [
    {
     "data": {
      "text/plain": [
       "0.6408839405773332"
      ]
     },
     "execution_count": 67,
     "metadata": {},
     "output_type": "execute_result"
    }
   ],
   "source": [
    "##R2_adj\n",
    "\n",
    "clf.score(X_, ys_train)*((n_train-1)/(n_train-p))+1-((n_train-1)/(n_train-p))"
   ]
  },
  {
   "cell_type": "code",
   "execution_count": 68,
   "metadata": {},
   "outputs": [],
   "source": [
    "beta3 = clf.coef_.reshape(45,1)"
   ]
  },
  {
   "cell_type": "code",
   "execution_count": 69,
   "metadata": {},
   "outputs": [
    {
     "data": {
      "text/plain": [
       "(45, 1)"
      ]
     },
     "execution_count": 69,
     "metadata": {},
     "output_type": "execute_result"
    }
   ],
   "source": [
    "np.shape(beta3)"
   ]
  },
  {
   "cell_type": "code",
   "execution_count": 70,
   "metadata": {},
   "outputs": [
    {
     "data": {
      "text/plain": [
       "(45, 1)"
      ]
     },
     "execution_count": 70,
     "metadata": {},
     "output_type": "execute_result"
    }
   ],
   "source": [
    "np.shape(beta2)"
   ]
  },
  {
   "cell_type": "code",
   "execution_count": 71,
   "metadata": {},
   "outputs": [
    {
     "data": {
      "text/plain": [
       "4.2259655094506205e-05"
      ]
     },
     "execution_count": 71,
     "metadata": {},
     "output_type": "execute_result"
    }
   ],
   "source": [
    "X_test2 = poly.fit_transform(Xs_test)\n",
    "yhat_test2 = X_test2.dot(beta3)\n",
    "MSE = (1/n_test)*np.sum((ys_test.reshape(n_test,1)-yhat_test2)**2)\n",
    "MSE"
   ]
  },
  {
   "cell_type": "code",
   "execution_count": 6,
   "metadata": {},
   "outputs": [],
   "source": [
    "X_train = np.array(D_train.iloc[:,0:8])\n",
    "#X_train = np.hstack((np.ones(n_train).reshape(n_train,1),X_train))\n",
    "y_train = np.array(D_train.iloc[:,8])\n",
    "X_test = np.array(D_test.iloc[:,0:8])\n",
    "#X_test = np.hstack((np.ones(n_test).reshape(n_test,1),X_test))\n",
    "y_test = np.array(D_test.iloc[:,8])"
   ]
  },
  {
   "cell_type": "code",
   "execution_count": 7,
   "metadata": {},
   "outputs": [],
   "source": [
    "x = np.array(data.iloc[:,0:8])\n",
    "y = np.array(data.iloc[:,8])"
   ]
  },
  {
   "cell_type": "code",
   "execution_count": 44,
   "metadata": {},
   "outputs": [],
   "source": [
    "#data preparation\n",
    "x1 = []\n",
    "for i in X_train.T[:,0:2001]:\n",
    "    x1.append(i)\n",
    "y1 = y_train[0:2001]"
   ]
  },
  {
   "cell_type": "code",
   "execution_count": 45,
   "metadata": {},
   "outputs": [
    {
     "data": {
      "text/plain": [
       "8"
      ]
     },
     "execution_count": 45,
     "metadata": {},
     "output_type": "execute_result"
    }
   ],
   "source": [
    "len(x1)"
   ]
  },
  {
   "cell_type": "code",
   "execution_count": 46,
   "metadata": {},
   "outputs": [],
   "source": [
    "from ace import model\n",
    "myace = model.Model()"
   ]
  },
  {
   "cell_type": "code",
   "execution_count": 47,
   "metadata": {
    "scrolled": true
   },
   "outputs": [
    {
     "name": "stdout",
     "output_type": "stream",
     "text": [
      "* Starting outer iteration 000. Current err =  1.00000E+00\n",
      "  Starting inner iteration 000. Current err =  1.00000E+00\n",
      "  Starting inner iteration 001. Current err =  3.82075E-01\n",
      "  Starting inner iteration 002. Current err =  3.13414E-01\n",
      "  Starting inner iteration 003. Current err =  3.01924E-01\n",
      "  Starting inner iteration 004. Current err =  2.95635E-01\n",
      "  Starting inner iteration 005. Current err =  2.93424E-01\n",
      "  Starting inner iteration 006. Current err =  2.90377E-01\n",
      "  Starting inner iteration 007. Current err =  2.86960E-01\n",
      "  Starting inner iteration 008. Current err =  2.84332E-01\n",
      "  Starting inner iteration 009. Current err =  2.82385E-01\n",
      "  Starting inner iteration 010. Current err =  2.80314E-01\n",
      "  Starting inner iteration 011. Current err =  2.78648E-01\n",
      "  Starting inner iteration 012. Current err =  2.77300E-01\n",
      "  Starting inner iteration 013. Current err =  2.77028E-01\n",
      "* Starting outer iteration 001. Current err =  2.62888E-01\n",
      "  Starting inner iteration 000. Current err =  2.62888E-01\n",
      "  Starting inner iteration 001. Current err =  2.51908E-01\n",
      "  Starting inner iteration 002. Current err =  2.50662E-01\n",
      "  Starting inner iteration 003. Current err =  2.49936E-01\n",
      "  Starting inner iteration 004. Current err =  2.49834E-01\n",
      "  Starting inner iteration 005. Current err =  2.49437E-01\n",
      "  Starting inner iteration 006. Current err =  2.48862E-01\n",
      "  Starting inner iteration 007. Current err =  2.48237E-01\n",
      "  Starting inner iteration 008. Current err =  2.47658E-01\n",
      "  Starting inner iteration 009. Current err =  2.47149E-01\n",
      "  Starting inner iteration 010. Current err =  2.46642E-01\n",
      "  Starting inner iteration 011. Current err =  2.46205E-01\n",
      "  Starting inner iteration 012. Current err =  2.45790E-01\n",
      "  Starting inner iteration 013. Current err =  2.45389E-01\n",
      "  Starting inner iteration 014. Current err =  2.44958E-01\n",
      "  Starting inner iteration 015. Current err =  2.44466E-01\n",
      "  Starting inner iteration 016. Current err =  2.44053E-01\n",
      "  Starting inner iteration 017. Current err =  2.43682E-01\n",
      "  Starting inner iteration 018. Current err =  2.43444E-01\n",
      "  Starting inner iteration 019. Current err =  2.43118E-01\n",
      "  Starting inner iteration 020. Current err =  2.42863E-01\n",
      "  Starting inner iteration 021. Current err =  2.42665E-01\n",
      "  Starting inner iteration 022. Current err =  2.42452E-01\n",
      "  Starting inner iteration 023. Current err =  2.42227E-01\n",
      "  Starting inner iteration 024. Current err =  2.42011E-01\n",
      "  Starting inner iteration 025. Current err =  2.41816E-01\n",
      "  Starting inner iteration 026. Current err =  2.41650E-01\n",
      "  Starting inner iteration 027. Current err =  2.41534E-01\n",
      "  Starting inner iteration 028. Current err =  2.41419E-01\n",
      "  Starting inner iteration 029. Current err =  2.41247E-01\n",
      "  Starting inner iteration 030. Current err =  2.41206E-01\n",
      "* Starting outer iteration 002. Current err =  2.38144E-01\n",
      "  Starting inner iteration 000. Current err =  2.38144E-01\n",
      "  Starting inner iteration 001. Current err =  2.35609E-01\n",
      "  Starting inner iteration 002. Current err =  2.34593E-01\n",
      "  Starting inner iteration 003. Current err =  2.34115E-01\n",
      "  Starting inner iteration 004. Current err =  2.33749E-01\n",
      "  Starting inner iteration 005. Current err =  2.33445E-01\n",
      "  Starting inner iteration 006. Current err =  2.33171E-01\n",
      "  Starting inner iteration 007. Current err =  2.32938E-01\n",
      "  Starting inner iteration 008. Current err =  2.32704E-01\n",
      "  Starting inner iteration 009. Current err =  2.32490E-01\n",
      "  Starting inner iteration 010. Current err =  2.32306E-01\n",
      "  Starting inner iteration 011. Current err =  2.32081E-01\n",
      "  Starting inner iteration 012. Current err =  2.31861E-01\n",
      "  Starting inner iteration 013. Current err =  2.31686E-01\n",
      "  Starting inner iteration 014. Current err =  2.31525E-01\n",
      "  Starting inner iteration 015. Current err =  2.31402E-01\n",
      "  Starting inner iteration 016. Current err =  2.31284E-01\n",
      "  Starting inner iteration 017. Current err =  2.31178E-01\n",
      "  Starting inner iteration 018. Current err =  2.31071E-01\n",
      "  Starting inner iteration 019. Current err =  2.30969E-01\n",
      "  Starting inner iteration 020. Current err =  2.30849E-01\n",
      "  Starting inner iteration 021. Current err =  2.30741E-01\n",
      "  Starting inner iteration 022. Current err =  2.30627E-01\n",
      "  Starting inner iteration 023. Current err =  2.30460E-01\n",
      "  Starting inner iteration 024. Current err =  2.30297E-01\n",
      "  Starting inner iteration 025. Current err =  2.30107E-01\n",
      "  Starting inner iteration 026. Current err =  2.29940E-01\n",
      "  Starting inner iteration 027. Current err =  2.29782E-01\n",
      "  Starting inner iteration 028. Current err =  2.29655E-01\n",
      "  Starting inner iteration 029. Current err =  2.29527E-01\n",
      "  Starting inner iteration 030. Current err =  2.29415E-01\n",
      "  Starting inner iteration 031. Current err =  2.29311E-01\n",
      "  Starting inner iteration 032. Current err =  2.29218E-01\n",
      "  Starting inner iteration 033. Current err =  2.29147E-01\n",
      "  Starting inner iteration 034. Current err =  2.29071E-01\n",
      "  Starting inner iteration 035. Current err =  2.28985E-01\n",
      "  Starting inner iteration 036. Current err =  2.28902E-01\n",
      "  Starting inner iteration 037. Current err =  2.28843E-01\n",
      "  Starting inner iteration 038. Current err =  2.28792E-01\n",
      "  Starting inner iteration 039. Current err =  2.28738E-01\n",
      "  Starting inner iteration 040. Current err =  2.28691E-01\n",
      "  Starting inner iteration 041. Current err =  2.28599E-01\n",
      "  Starting inner iteration 042. Current err =  2.28560E-01\n",
      "  Starting inner iteration 043. Current err =  2.28523E-01\n",
      "  Starting inner iteration 044. Current err =  2.28489E-01\n",
      "  Starting inner iteration 045. Current err =  2.28440E-01\n",
      "  Starting inner iteration 046. Current err =  2.28411E-01\n",
      "  Starting inner iteration 047. Current err =  2.28386E-01\n",
      "  Starting inner iteration 048. Current err =  2.28360E-01\n",
      "  Starting inner iteration 049. Current err =  2.28327E-01\n",
      "  Starting inner iteration 050. Current err =  2.28303E-01\n",
      "  Starting inner iteration 051. Current err =  2.28231E-01\n",
      "  Starting inner iteration 052. Current err =  2.28211E-01\n",
      "  Starting inner iteration 053. Current err =  2.28185E-01\n",
      "  Starting inner iteration 054. Current err =  2.28165E-01\n",
      "  Starting inner iteration 055. Current err =  2.28149E-01\n",
      "  Starting inner iteration 056. Current err =  2.28140E-01\n",
      "  Starting inner iteration 057. Current err =  2.28075E-01\n",
      "  Starting inner iteration 058. Current err =  2.28061E-01\n",
      "  Starting inner iteration 059. Current err =  2.27994E-01\n",
      "  Starting inner iteration 060. Current err =  2.27981E-01\n",
      "  Starting inner iteration 061. Current err =  2.27969E-01\n",
      "  Starting inner iteration 062. Current err =  2.27959E-01\n",
      "  Starting inner iteration 063. Current err =  2.27946E-01\n",
      "  Starting inner iteration 064. Current err =  2.27932E-01\n",
      "  Starting inner iteration 065. Current err =  2.27909E-01\n",
      "  Starting inner iteration 066. Current err =  2.27892E-01\n",
      "  Starting inner iteration 067. Current err =  2.27873E-01\n",
      "  Starting inner iteration 068. Current err =  2.27852E-01\n",
      "  Starting inner iteration 069. Current err =  2.27843E-01\n",
      "  Starting inner iteration 070. Current err =  2.27824E-01\n",
      "  Starting inner iteration 071. Current err =  2.27746E-01\n",
      "  Starting inner iteration 072. Current err =  2.27738E-01\n",
      "  Starting inner iteration 073. Current err =  2.27727E-01\n",
      "  Starting inner iteration 074. Current err =  2.27715E-01\n",
      "  Starting inner iteration 075. Current err =  2.27706E-01\n",
      "  Starting inner iteration 076. Current err =  2.27700E-01\n",
      "  Starting inner iteration 077. Current err =  2.27691E-01\n",
      "  Starting inner iteration 078. Current err =  2.27689E-01\n",
      "  Starting inner iteration 079. Current err =  2.27682E-01\n",
      "  Starting inner iteration 080. Current err =  2.27676E-01\n",
      "  Starting inner iteration 081. Current err =  2.27670E-01\n",
      "  Starting inner iteration 082. Current err =  2.27666E-01\n",
      "  Starting inner iteration 083. Current err =  2.27610E-01\n",
      "  Starting inner iteration 084. Current err =  2.27601E-01\n",
      "  Starting inner iteration 085. Current err =  2.27596E-01\n",
      "  Starting inner iteration 086. Current err =  2.27533E-01\n",
      "  Starting inner iteration 087. Current err =  2.27530E-01\n",
      "  Starting inner iteration 088. Current err =  2.27524E-01\n",
      "  Starting inner iteration 089. Current err =  2.27523E-01\n",
      "  Starting inner iteration 090. Current err =  2.27509E-01\n"
     ]
    },
    {
     "name": "stdout",
     "output_type": "stream",
     "text": [
      "* Starting outer iteration 003. Current err =  2.24879E-01\n",
      "  Starting inner iteration 000. Current err =  2.24879E-01\n",
      "  Starting inner iteration 001. Current err =  2.23501E-01\n",
      "  Starting inner iteration 002. Current err =  2.23410E-01\n",
      "  Starting inner iteration 003. Current err =  2.23334E-01\n",
      "  Starting inner iteration 004. Current err =  2.23243E-01\n",
      "  Starting inner iteration 005. Current err =  2.23189E-01\n",
      "  Starting inner iteration 006. Current err =  2.23144E-01\n",
      "  Starting inner iteration 007. Current err =  2.23115E-01\n",
      "  Starting inner iteration 008. Current err =  2.23051E-01\n",
      "  Starting inner iteration 009. Current err =  2.23031E-01\n",
      "  Starting inner iteration 010. Current err =  2.22989E-01\n",
      "  Starting inner iteration 011. Current err =  2.22942E-01\n",
      "  Starting inner iteration 012. Current err =  2.22876E-01\n",
      "  Starting inner iteration 013. Current err =  2.22852E-01\n",
      "  Starting inner iteration 014. Current err =  2.22831E-01\n",
      "  Starting inner iteration 015. Current err =  2.22814E-01\n",
      "* Starting outer iteration 004. Current err =  2.21535E-01\n",
      "  Starting inner iteration 000. Current err =  2.21535E-01\n",
      "  Starting inner iteration 001. Current err =  2.20862E-01\n",
      "  Starting inner iteration 002. Current err =  2.20715E-01\n",
      "  Starting inner iteration 003. Current err =  2.20646E-01\n",
      "  Starting inner iteration 004. Current err =  2.20605E-01\n",
      "  Starting inner iteration 005. Current err =  2.20573E-01\n",
      "  Starting inner iteration 006. Current err =  2.20558E-01\n",
      "  Starting inner iteration 007. Current err =  2.20551E-01\n",
      "  Starting inner iteration 008. Current err =  2.20520E-01\n",
      "* Starting outer iteration 005. Current err =  2.19989E-01\n",
      "  Starting inner iteration 000. Current err =  2.19989E-01\n",
      "  Starting inner iteration 001. Current err =  2.19416E-01\n",
      "  Starting inner iteration 002. Current err =  2.19352E-01\n",
      "  Starting inner iteration 003. Current err =  2.19296E-01\n",
      "  Starting inner iteration 004. Current err =  2.19281E-01\n",
      "* Starting outer iteration 006. Current err =  2.19018E-01\n",
      "  Starting inner iteration 000. Current err =  2.19018E-01\n",
      "  Starting inner iteration 001. Current err =  2.18849E-01\n",
      "  Starting inner iteration 002. Current err =  2.18761E-01\n",
      "* Starting outer iteration 007. Current err =  2.18638E-01\n",
      "  Starting inner iteration 000. Current err =  2.18638E-01\n",
      "  Starting inner iteration 001. Current err =  2.18575E-01\n",
      "  Starting inner iteration 002. Current err =  2.18539E-01\n",
      "  Starting inner iteration 003. Current err =  2.18531E-01\n",
      "* Starting outer iteration 008. Current err =  2.18459E-01\n",
      "  Starting inner iteration 000. Current err =  2.18459E-01\n",
      "  Starting inner iteration 001. Current err =  2.18386E-01\n",
      "  Starting inner iteration 002. Current err =  2.18362E-01\n",
      "  Starting inner iteration 003. Current err =  2.18312E-01\n",
      "  Starting inner iteration 004. Current err =  2.18307E-01\n",
      "* Starting outer iteration 009. Current err =  2.18276E-01\n",
      "  Starting inner iteration 000. Current err =  2.18276E-01\n",
      "  Starting inner iteration 001. Current err =  2.18251E-01\n",
      "  Starting inner iteration 002. Current err =  2.18249E-01\n",
      "* Starting outer iteration 010. Current err =  2.18259E-01\n",
      "  Starting inner iteration 000. Current err =  2.18259E-01\n",
      "  Starting inner iteration 001. Current err =  2.18242E-01\n",
      "* Starting outer iteration 011. Current err =  2.18258E-01\n",
      "  Starting inner iteration 000. Current err =  2.18258E-01\n",
      "  Starting inner iteration 001. Current err =  2.18225E-01\n",
      "  Starting inner iteration 002. Current err =  2.18224E-01\n",
      "* Starting outer iteration 012. Current err =  2.18220E-01\n",
      "  Starting inner iteration 000. Current err =  2.18220E-01\n",
      "  Starting inner iteration 001. Current err =  2.18171E-01\n",
      "  Starting inner iteration 002. Current err =  2.18169E-01\n"
     ]
    }
   ],
   "source": [
    "myace.build_model_from_xy(x1, y1)"
   ]
  },
  {
   "cell_type": "code",
   "execution_count": 48,
   "metadata": {},
   "outputs": [],
   "source": [
    "from ace import ace\n",
    "#ace.plot_transforms(myace, fname = 'mytransforms.pdf')\n",
    "myace.ace.write_transforms_to_file(fname = 'mytransforms1.txt')"
   ]
  },
  {
   "cell_type": "code",
   "execution_count": 49,
   "metadata": {},
   "outputs": [],
   "source": [
    "df = []\n",
    "\n",
    "with open('mytransforms1.txt') as f:\n",
    "    for line in f.readlines():\n",
    "        temp = line.split()\n",
    "        df.append(temp)"
   ]
  },
  {
   "cell_type": "code",
   "execution_count": 50,
   "metadata": {},
   "outputs": [
    {
     "name": "stdout",
     "output_type": "stream",
     "text": [
      "* Starting outer iteration 000. Current err =  1.00000E+00\n",
      "  Starting inner iteration 000. Current err =  1.00000E+00\n",
      "  Starting inner iteration 001. Current err =  3.94433E-01\n",
      "  Starting inner iteration 002. Current err =  3.25982E-01\n",
      "  Starting inner iteration 003. Current err =  3.16215E-01\n",
      "  Starting inner iteration 004. Current err =  3.10560E-01\n",
      "  Starting inner iteration 005. Current err =  3.05684E-01\n",
      "  Starting inner iteration 006. Current err =  3.01640E-01\n",
      "  Starting inner iteration 007. Current err =  2.98111E-01\n",
      "  Starting inner iteration 008. Current err =  2.95025E-01\n",
      "  Starting inner iteration 009. Current err =  2.92697E-01\n",
      "  Starting inner iteration 010. Current err =  2.90942E-01\n",
      "  Starting inner iteration 011. Current err =  2.89466E-01\n",
      "  Starting inner iteration 012. Current err =  2.87974E-01\n",
      "  Starting inner iteration 013. Current err =  2.86940E-01\n",
      "  Starting inner iteration 014. Current err =  2.85887E-01\n",
      "  Starting inner iteration 015. Current err =  2.84893E-01\n",
      "  Starting inner iteration 016. Current err =  2.83950E-01\n",
      "  Starting inner iteration 017. Current err =  2.83115E-01\n",
      "  Starting inner iteration 018. Current err =  2.82336E-01\n",
      "  Starting inner iteration 019. Current err =  2.81612E-01\n",
      "  Starting inner iteration 020. Current err =  2.80926E-01\n",
      "  Starting inner iteration 021. Current err =  2.80333E-01\n",
      "  Starting inner iteration 022. Current err =  2.79756E-01\n",
      "  Starting inner iteration 023. Current err =  2.79129E-01\n",
      "  Starting inner iteration 024. Current err =  2.78559E-01\n",
      "  Starting inner iteration 025. Current err =  2.77984E-01\n",
      "  Starting inner iteration 026. Current err =  2.77477E-01\n",
      "  Starting inner iteration 027. Current err =  2.76974E-01\n",
      "  Starting inner iteration 028. Current err =  2.76485E-01\n",
      "  Starting inner iteration 029. Current err =  2.75931E-01\n",
      "  Starting inner iteration 030. Current err =  2.75392E-01\n",
      "  Starting inner iteration 031. Current err =  2.74814E-01\n",
      "  Starting inner iteration 032. Current err =  2.74353E-01\n",
      "  Starting inner iteration 033. Current err =  2.73976E-01\n",
      "  Starting inner iteration 034. Current err =  2.73578E-01\n",
      "  Starting inner iteration 035. Current err =  2.73170E-01\n",
      "  Starting inner iteration 036. Current err =  2.72734E-01\n",
      "  Starting inner iteration 037. Current err =  2.71953E-01\n",
      "  Starting inner iteration 038. Current err =  2.70781E-01\n",
      "  Starting inner iteration 039. Current err =  2.69913E-01\n",
      "  Starting inner iteration 040. Current err =  2.69324E-01\n",
      "  Starting inner iteration 041. Current err =  2.68554E-01\n",
      "  Starting inner iteration 042. Current err =  2.67960E-01\n",
      "  Starting inner iteration 043. Current err =  2.67492E-01\n",
      "  Starting inner iteration 044. Current err =  2.67088E-01\n",
      "  Starting inner iteration 045. Current err =  2.66793E-01\n",
      "  Starting inner iteration 046. Current err =  2.66501E-01\n",
      "  Starting inner iteration 047. Current err =  2.66207E-01\n",
      "  Starting inner iteration 048. Current err =  2.65887E-01\n",
      "  Starting inner iteration 049. Current err =  2.65544E-01\n",
      "  Starting inner iteration 050. Current err =  2.65269E-01\n",
      "  Starting inner iteration 051. Current err =  2.64999E-01\n",
      "  Starting inner iteration 052. Current err =  2.64751E-01\n",
      "  Starting inner iteration 053. Current err =  2.64524E-01\n",
      "  Starting inner iteration 054. Current err =  2.64290E-01\n",
      "  Starting inner iteration 055. Current err =  2.64045E-01\n",
      "  Starting inner iteration 056. Current err =  2.63858E-01\n",
      "  Starting inner iteration 057. Current err =  2.63694E-01\n",
      "  Starting inner iteration 058. Current err =  2.63604E-01\n",
      "* Starting outer iteration 001. Current err =  2.47219E-01\n",
      "  Starting inner iteration 000. Current err =  2.47219E-01\n",
      "  Starting inner iteration 001. Current err =  2.42076E-01\n",
      "  Starting inner iteration 002. Current err =  2.41895E-01\n",
      "  Starting inner iteration 003. Current err =  2.41460E-01\n",
      "  Starting inner iteration 004. Current err =  2.41066E-01\n",
      "  Starting inner iteration 005. Current err =  2.40762E-01\n",
      "  Starting inner iteration 006. Current err =  2.40498E-01\n",
      "  Starting inner iteration 007. Current err =  2.40206E-01\n",
      "  Starting inner iteration 008. Current err =  2.39984E-01\n",
      "  Starting inner iteration 009. Current err =  2.39501E-01\n",
      "  Starting inner iteration 010. Current err =  2.39191E-01\n",
      "  Starting inner iteration 011. Current err =  2.38967E-01\n",
      "  Starting inner iteration 012. Current err =  2.38801E-01\n",
      "  Starting inner iteration 013. Current err =  2.38672E-01\n",
      "  Starting inner iteration 014. Current err =  2.38570E-01\n",
      "  Starting inner iteration 015. Current err =  2.38473E-01\n",
      "  Starting inner iteration 016. Current err =  2.38409E-01\n",
      "  Starting inner iteration 017. Current err =  2.38347E-01\n",
      "  Starting inner iteration 018. Current err =  2.38308E-01\n",
      "  Starting inner iteration 019. Current err =  2.38232E-01\n",
      "  Starting inner iteration 020. Current err =  2.38209E-01\n",
      "  Starting inner iteration 021. Current err =  2.38179E-01\n",
      "  Starting inner iteration 022. Current err =  2.38156E-01\n",
      "  Starting inner iteration 023. Current err =  2.38147E-01\n",
      "* Starting outer iteration 002. Current err =  2.33536E-01\n",
      "  Starting inner iteration 000. Current err =  2.33536E-01\n",
      "  Starting inner iteration 001. Current err =  2.33178E-01\n",
      "  Starting inner iteration 002. Current err =  2.33029E-01\n",
      "* Starting outer iteration 003. Current err =  2.31797E-01\n",
      "  Starting inner iteration 000. Current err =  2.31797E-01\n",
      "  Starting inner iteration 001. Current err =  2.31596E-01\n",
      "  Starting inner iteration 002. Current err =  2.30793E-01\n",
      "* Starting outer iteration 004. Current err =  2.30634E-01\n",
      "  Starting inner iteration 000. Current err =  2.30634E-01\n",
      "  Starting inner iteration 001. Current err =  2.30474E-01\n",
      "  Starting inner iteration 002. Current err =  2.30463E-01\n",
      "* Starting outer iteration 005. Current err =  2.30622E-01\n",
      "  Starting inner iteration 000. Current err =  2.30622E-01\n"
     ]
    }
   ],
   "source": [
    "#2nd training\n",
    "x2 = []\n",
    "for i in X_train.T[:,2001:4001]:\n",
    "    x2.append(i)\n",
    "y2 = y_train[2001:4001]\n",
    "\n",
    "myace = model.Model()\n",
    "\n",
    "myace.build_model_from_xy(x2, y2)\n",
    "\n",
    "myace.ace.write_transforms_to_file(fname = 'mytransforms2.txt')\n",
    "\n",
    "with open('mytransforms2.txt') as f:\n",
    "    for line in f.readlines():\n",
    "        temp = line.split()\n",
    "        df.append(temp)"
   ]
  },
  {
   "cell_type": "code",
   "execution_count": 51,
   "metadata": {},
   "outputs": [
    {
     "name": "stdout",
     "output_type": "stream",
     "text": [
      "* Starting outer iteration 000. Current err =  1.00000E+00\n",
      "  Starting inner iteration 000. Current err =  1.00000E+00\n",
      "  Starting inner iteration 001. Current err =  3.88119E-01\n",
      "  Starting inner iteration 002. Current err =  3.08808E-01\n",
      "  Starting inner iteration 003. Current err =  2.94192E-01\n",
      "  Starting inner iteration 004. Current err =  2.85477E-01\n",
      "  Starting inner iteration 005. Current err =  2.80399E-01\n",
      "  Starting inner iteration 006. Current err =  2.76878E-01\n",
      "  Starting inner iteration 007. Current err =  2.73795E-01\n",
      "  Starting inner iteration 008. Current err =  2.70976E-01\n",
      "  Starting inner iteration 009. Current err =  2.68608E-01\n",
      "  Starting inner iteration 010. Current err =  2.66864E-01\n",
      "  Starting inner iteration 011. Current err =  2.65260E-01\n",
      "  Starting inner iteration 012. Current err =  2.64051E-01\n",
      "  Starting inner iteration 013. Current err =  2.62893E-01\n",
      "  Starting inner iteration 014. Current err =  2.61880E-01\n",
      "  Starting inner iteration 015. Current err =  2.60859E-01\n",
      "  Starting inner iteration 016. Current err =  2.59906E-01\n",
      "  Starting inner iteration 017. Current err =  2.59040E-01\n",
      "  Starting inner iteration 018. Current err =  2.58136E-01\n",
      "  Starting inner iteration 019. Current err =  2.57370E-01\n",
      "  Starting inner iteration 020. Current err =  2.56669E-01\n",
      "  Starting inner iteration 021. Current err =  2.56183E-01\n",
      "  Starting inner iteration 022. Current err =  2.55754E-01\n",
      "  Starting inner iteration 023. Current err =  2.55301E-01\n",
      "  Starting inner iteration 024. Current err =  2.54909E-01\n",
      "  Starting inner iteration 025. Current err =  2.54536E-01\n",
      "  Starting inner iteration 026. Current err =  2.54174E-01\n",
      "  Starting inner iteration 027. Current err =  2.53834E-01\n",
      "  Starting inner iteration 028. Current err =  2.53533E-01\n",
      "  Starting inner iteration 029. Current err =  2.53238E-01\n",
      "  Starting inner iteration 030. Current err =  2.52953E-01\n",
      "  Starting inner iteration 031. Current err =  2.52714E-01\n",
      "  Starting inner iteration 032. Current err =  2.52487E-01\n",
      "  Starting inner iteration 033. Current err =  2.52269E-01\n",
      "  Starting inner iteration 034. Current err =  2.52079E-01\n",
      "  Starting inner iteration 035. Current err =  2.51915E-01\n",
      "  Starting inner iteration 036. Current err =  2.51754E-01\n",
      "  Starting inner iteration 037. Current err =  2.51538E-01\n",
      "  Starting inner iteration 038. Current err =  2.51389E-01\n",
      "  Starting inner iteration 039. Current err =  2.51241E-01\n",
      "  Starting inner iteration 040. Current err =  2.51114E-01\n",
      "  Starting inner iteration 041. Current err =  2.50994E-01\n",
      "  Starting inner iteration 042. Current err =  2.50883E-01\n",
      "  Starting inner iteration 043. Current err =  2.50786E-01\n",
      "  Starting inner iteration 044. Current err =  2.50679E-01\n",
      "  Starting inner iteration 045. Current err =  2.50583E-01\n",
      "  Starting inner iteration 046. Current err =  2.50498E-01\n",
      "  Starting inner iteration 047. Current err =  2.50424E-01\n",
      "  Starting inner iteration 048. Current err =  2.50364E-01\n",
      "  Starting inner iteration 049. Current err =  2.50300E-01\n",
      "  Starting inner iteration 050. Current err =  2.50235E-01\n",
      "  Starting inner iteration 051. Current err =  2.50183E-01\n",
      "  Starting inner iteration 052. Current err =  2.50136E-01\n",
      "  Starting inner iteration 053. Current err =  2.50089E-01\n",
      "  Starting inner iteration 054. Current err =  2.50036E-01\n",
      "  Starting inner iteration 055. Current err =  2.49996E-01\n",
      "  Starting inner iteration 056. Current err =  2.49948E-01\n",
      "  Starting inner iteration 057. Current err =  2.49910E-01\n",
      "  Starting inner iteration 058. Current err =  2.49877E-01\n",
      "  Starting inner iteration 059. Current err =  2.49852E-01\n",
      "  Starting inner iteration 060. Current err =  2.49827E-01\n",
      "  Starting inner iteration 061. Current err =  2.49819E-01\n",
      "  Starting inner iteration 062. Current err =  2.49811E-01\n",
      "* Starting outer iteration 001. Current err =  2.38107E-01\n",
      "  Starting inner iteration 000. Current err =  2.38107E-01\n",
      "  Starting inner iteration 001. Current err =  2.33717E-01\n",
      "  Starting inner iteration 002. Current err =  2.33688E-01\n",
      "  Starting inner iteration 003. Current err =  2.33638E-01\n",
      "  Starting inner iteration 004. Current err =  2.33601E-01\n",
      "  Starting inner iteration 005. Current err =  2.33576E-01\n",
      "  Starting inner iteration 006. Current err =  2.33545E-01\n",
      "  Starting inner iteration 007. Current err =  2.33499E-01\n",
      "  Starting inner iteration 008. Current err =  2.33492E-01\n",
      "* Starting outer iteration 002. Current err =  2.30475E-01\n",
      "  Starting inner iteration 000. Current err =  2.30475E-01\n",
      "  Starting inner iteration 001. Current err =  2.29303E-01\n",
      "  Starting inner iteration 002. Current err =  2.29170E-01\n",
      "  Starting inner iteration 003. Current err =  2.29128E-01\n",
      "* Starting outer iteration 003. Current err =  2.28173E-01\n",
      "  Starting inner iteration 000. Current err =  2.28173E-01\n",
      "  Starting inner iteration 001. Current err =  2.27674E-01\n",
      "  Starting inner iteration 002. Current err =  2.27576E-01\n",
      "  Starting inner iteration 003. Current err =  2.27474E-01\n",
      "* Starting outer iteration 004. Current err =  2.27131E-01\n",
      "  Starting inner iteration 000. Current err =  2.27131E-01\n",
      "  Starting inner iteration 001. Current err =  2.26836E-01\n",
      "* Starting outer iteration 005. Current err =  2.26677E-01\n",
      "  Starting inner iteration 000. Current err =  2.26677E-01\n",
      "  Starting inner iteration 001. Current err =  2.26495E-01\n",
      "  Starting inner iteration 002. Current err =  2.26365E-01\n",
      "  Starting inner iteration 003. Current err =  2.26137E-01\n",
      "  Starting inner iteration 004. Current err =  2.25994E-01\n",
      "  Starting inner iteration 005. Current err =  2.25905E-01\n",
      "  Starting inner iteration 006. Current err =  2.25805E-01\n",
      "  Starting inner iteration 007. Current err =  2.25714E-01\n",
      "  Starting inner iteration 008. Current err =  2.25615E-01\n",
      "  Starting inner iteration 009. Current err =  2.25603E-01\n",
      "  Starting inner iteration 010. Current err =  2.25562E-01\n",
      "  Starting inner iteration 011. Current err =  2.25515E-01\n",
      "  Starting inner iteration 012. Current err =  2.25453E-01\n",
      "  Starting inner iteration 013. Current err =  2.25389E-01\n",
      "  Starting inner iteration 014. Current err =  2.25338E-01\n",
      "  Starting inner iteration 015. Current err =  2.25323E-01\n",
      "  Starting inner iteration 016. Current err =  2.25282E-01\n",
      "  Starting inner iteration 017. Current err =  2.25241E-01\n",
      "  Starting inner iteration 018. Current err =  2.25199E-01\n",
      "  Starting inner iteration 019. Current err =  2.25149E-01\n",
      "  Starting inner iteration 020. Current err =  2.25110E-01\n",
      "  Starting inner iteration 021. Current err =  2.25079E-01\n",
      "  Starting inner iteration 022. Current err =  2.25047E-01\n",
      "  Starting inner iteration 023. Current err =  2.25041E-01\n",
      "  Starting inner iteration 024. Current err =  2.25009E-01\n",
      "  Starting inner iteration 025. Current err =  2.24988E-01\n",
      "  Starting inner iteration 026. Current err =  2.24966E-01\n",
      "  Starting inner iteration 027. Current err =  2.24955E-01\n",
      "  Starting inner iteration 028. Current err =  2.24927E-01\n",
      "  Starting inner iteration 029. Current err =  2.24892E-01\n",
      "  Starting inner iteration 030. Current err =  2.24878E-01\n",
      "  Starting inner iteration 031. Current err =  2.24858E-01\n",
      "  Starting inner iteration 032. Current err =  2.24839E-01\n",
      "* Starting outer iteration 006. Current err =  2.25579E-01\n",
      "  Starting inner iteration 000. Current err =  2.25579E-01\n"
     ]
    }
   ],
   "source": [
    "#3rd training\n",
    "x3 = []\n",
    "for i in X_train.T[:,4001:6001]:\n",
    "    x3.append(i)\n",
    "y3 = y_train[4001:6001]\n",
    "\n",
    "myace = model.Model()\n",
    "\n",
    "myace.build_model_from_xy(x3, y3)\n",
    "\n",
    "myace.ace.write_transforms_to_file(fname = 'mytransforms3.txt')\n",
    "\n",
    "with open('mytransforms3.txt') as f:\n",
    "    for line in f.readlines():\n",
    "        temp = line.split()\n",
    "        df.append(temp)"
   ]
  },
  {
   "cell_type": "code",
   "execution_count": 52,
   "metadata": {},
   "outputs": [
    {
     "name": "stdout",
     "output_type": "stream",
     "text": [
      "* Starting outer iteration 000. Current err =  1.00000E+00\n",
      "  Starting inner iteration 000. Current err =  1.00000E+00\n",
      "  Starting inner iteration 001. Current err =  3.51171E-01\n",
      "  Starting inner iteration 002. Current err =  2.88356E-01\n",
      "  Starting inner iteration 003. Current err =  2.78177E-01\n",
      "  Starting inner iteration 004. Current err =  2.71519E-01\n",
      "  Starting inner iteration 005. Current err =  2.66427E-01\n",
      "  Starting inner iteration 006. Current err =  2.63000E-01\n",
      "  Starting inner iteration 007. Current err =  2.61336E-01\n",
      "  Starting inner iteration 008. Current err =  2.58590E-01\n",
      "  Starting inner iteration 009. Current err =  2.56766E-01\n",
      "  Starting inner iteration 010. Current err =  2.55019E-01\n",
      "  Starting inner iteration 011. Current err =  2.53546E-01\n",
      "  Starting inner iteration 012. Current err =  2.52286E-01\n",
      "  Starting inner iteration 013. Current err =  2.51130E-01\n",
      "  Starting inner iteration 014. Current err =  2.50199E-01\n",
      "  Starting inner iteration 015. Current err =  2.49284E-01\n",
      "  Starting inner iteration 016. Current err =  2.48454E-01\n",
      "  Starting inner iteration 017. Current err =  2.47478E-01\n",
      "  Starting inner iteration 018. Current err =  2.45985E-01\n",
      "  Starting inner iteration 019. Current err =  2.44567E-01\n",
      "  Starting inner iteration 020. Current err =  2.43661E-01\n",
      "  Starting inner iteration 021. Current err =  2.42869E-01\n",
      "  Starting inner iteration 022. Current err =  2.42170E-01\n",
      "  Starting inner iteration 023. Current err =  2.41690E-01\n",
      "  Starting inner iteration 024. Current err =  2.41084E-01\n",
      "  Starting inner iteration 025. Current err =  2.40652E-01\n",
      "  Starting inner iteration 026. Current err =  2.40240E-01\n",
      "  Starting inner iteration 027. Current err =  2.39895E-01\n",
      "  Starting inner iteration 028. Current err =  2.39543E-01\n",
      "  Starting inner iteration 029. Current err =  2.39284E-01\n",
      "  Starting inner iteration 030. Current err =  2.39093E-01\n",
      "  Starting inner iteration 031. Current err =  2.38800E-01\n",
      "  Starting inner iteration 032. Current err =  2.38515E-01\n",
      "  Starting inner iteration 033. Current err =  2.37967E-01\n",
      "  Starting inner iteration 034. Current err =  2.37484E-01\n",
      "  Starting inner iteration 035. Current err =  2.37402E-01\n",
      "  Starting inner iteration 036. Current err =  2.37253E-01\n",
      "  Starting inner iteration 037. Current err =  2.37156E-01\n",
      "  Starting inner iteration 038. Current err =  2.37050E-01\n",
      "  Starting inner iteration 039. Current err =  2.36980E-01\n",
      "  Starting inner iteration 040. Current err =  2.36887E-01\n",
      "  Starting inner iteration 041. Current err =  2.36837E-01\n",
      "  Starting inner iteration 042. Current err =  2.36802E-01\n",
      "  Starting inner iteration 043. Current err =  2.36753E-01\n",
      "  Starting inner iteration 044. Current err =  2.36738E-01\n",
      "  Starting inner iteration 045. Current err =  2.36703E-01\n",
      "  Starting inner iteration 046. Current err =  2.36698E-01\n",
      "  Starting inner iteration 047. Current err =  2.36686E-01\n",
      "* Starting outer iteration 001. Current err =  2.23546E-01\n",
      "  Starting inner iteration 000. Current err =  2.23546E-01\n",
      "  Starting inner iteration 001. Current err =  2.19417E-01\n",
      "* Starting outer iteration 002. Current err =  2.15329E-01\n",
      "  Starting inner iteration 000. Current err =  2.15329E-01\n",
      "  Starting inner iteration 001. Current err =  2.12642E-01\n",
      "  Starting inner iteration 002. Current err =  2.12595E-01\n",
      "  Starting inner iteration 003. Current err =  2.12513E-01\n",
      "  Starting inner iteration 004. Current err =  2.12327E-01\n",
      "  Starting inner iteration 005. Current err =  2.12122E-01\n",
      "  Starting inner iteration 006. Current err =  2.11944E-01\n",
      "  Starting inner iteration 007. Current err =  2.11755E-01\n",
      "  Starting inner iteration 008. Current err =  2.11541E-01\n",
      "  Starting inner iteration 009. Current err =  2.11368E-01\n",
      "  Starting inner iteration 010. Current err =  2.11202E-01\n",
      "  Starting inner iteration 011. Current err =  2.11052E-01\n",
      "  Starting inner iteration 012. Current err =  2.10930E-01\n",
      "  Starting inner iteration 013. Current err =  2.10831E-01\n",
      "  Starting inner iteration 014. Current err =  2.10710E-01\n",
      "  Starting inner iteration 015. Current err =  2.10586E-01\n",
      "  Starting inner iteration 016. Current err =  2.10497E-01\n",
      "  Starting inner iteration 017. Current err =  2.10422E-01\n",
      "* Starting outer iteration 003. Current err =  2.08540E-01\n",
      "  Starting inner iteration 000. Current err =  2.08540E-01\n",
      "  Starting inner iteration 001. Current err =  2.07685E-01\n",
      "  Starting inner iteration 002. Current err =  2.07523E-01\n",
      "  Starting inner iteration 003. Current err =  2.07432E-01\n",
      "  Starting inner iteration 004. Current err =  2.07315E-01\n",
      "  Starting inner iteration 005. Current err =  2.07258E-01\n",
      "  Starting inner iteration 006. Current err =  2.07214E-01\n",
      "  Starting inner iteration 007. Current err =  2.07172E-01\n",
      "  Starting inner iteration 008. Current err =  2.07168E-01\n",
      "  Starting inner iteration 009. Current err =  2.07155E-01\n",
      "  Starting inner iteration 010. Current err =  2.07141E-01\n",
      "  Starting inner iteration 011. Current err =  2.07123E-01\n",
      "  Starting inner iteration 012. Current err =  2.07092E-01\n",
      "  Starting inner iteration 013. Current err =  2.07078E-01\n",
      "  Starting inner iteration 014. Current err =  2.07065E-01\n",
      "  Starting inner iteration 015. Current err =  2.07017E-01\n",
      "  Starting inner iteration 016. Current err =  2.07008E-01\n",
      "  Starting inner iteration 017. Current err =  2.06995E-01\n",
      "  Starting inner iteration 018. Current err =  2.06983E-01\n",
      "  Starting inner iteration 019. Current err =  2.06954E-01\n",
      "  Starting inner iteration 020. Current err =  2.06944E-01\n",
      "  Starting inner iteration 021. Current err =  2.06944E-01\n",
      "* Starting outer iteration 004. Current err =  2.05951E-01\n",
      "  Starting inner iteration 000. Current err =  2.05951E-01\n",
      "  Starting inner iteration 001. Current err =  2.05632E-01\n",
      "* Starting outer iteration 005. Current err =  2.05389E-01\n",
      "  Starting inner iteration 000. Current err =  2.05389E-01\n",
      "  Starting inner iteration 001. Current err =  2.05181E-01\n",
      "  Starting inner iteration 002. Current err =  2.05181E-01\n",
      "* Starting outer iteration 006. Current err =  2.05085E-01\n",
      "  Starting inner iteration 000. Current err =  2.05085E-01\n",
      "  Starting inner iteration 001. Current err =  2.04917E-01\n",
      "* Starting outer iteration 007. Current err =  2.04912E-01\n",
      "  Starting inner iteration 000. Current err =  2.04912E-01\n",
      "  Starting inner iteration 001. Current err =  2.04826E-01\n",
      "  Starting inner iteration 002. Current err =  2.04820E-01\n",
      "  Starting inner iteration 003. Current err =  2.04813E-01\n",
      "  Starting inner iteration 004. Current err =  2.04785E-01\n",
      "  Starting inner iteration 005. Current err =  2.04778E-01\n",
      "  Starting inner iteration 006. Current err =  2.04768E-01\n",
      "  Starting inner iteration 007. Current err =  2.04749E-01\n",
      "  Starting inner iteration 008. Current err =  2.04734E-01\n",
      "  Starting inner iteration 009. Current err =  2.04713E-01\n",
      "  Starting inner iteration 010. Current err =  2.04699E-01\n",
      "  Starting inner iteration 011. Current err =  2.04684E-01\n",
      "  Starting inner iteration 012. Current err =  2.04679E-01\n",
      "* Starting outer iteration 008. Current err =  2.04610E-01\n",
      "  Starting inner iteration 000. Current err =  2.04610E-01\n",
      "  Starting inner iteration 001. Current err =  2.04499E-01\n",
      "  Starting inner iteration 002. Current err =  2.04435E-01\n",
      "  Starting inner iteration 003. Current err =  2.04430E-01\n",
      "  Starting inner iteration 004. Current err =  2.04420E-01\n",
      "  Starting inner iteration 005. Current err =  2.04408E-01\n",
      "  Starting inner iteration 006. Current err =  2.04405E-01\n",
      "  Starting inner iteration 007. Current err =  2.04397E-01\n",
      "  Starting inner iteration 008. Current err =  2.04391E-01\n",
      "  Starting inner iteration 009. Current err =  2.04384E-01\n",
      "  Starting inner iteration 010. Current err =  2.04379E-01\n",
      "  Starting inner iteration 011. Current err =  2.04369E-01\n",
      "  Starting inner iteration 012. Current err =  2.04356E-01\n",
      "  Starting inner iteration 013. Current err =  2.04350E-01\n",
      "  Starting inner iteration 014. Current err =  2.04346E-01\n",
      "* Starting outer iteration 009. Current err =  2.04299E-01\n",
      "  Starting inner iteration 000. Current err =  2.04299E-01\n",
      "  Starting inner iteration 001. Current err =  2.04261E-01\n",
      "  Starting inner iteration 002. Current err =  2.04237E-01\n",
      "* Starting outer iteration 010. Current err =  2.04214E-01\n",
      "  Starting inner iteration 000. Current err =  2.04214E-01\n"
     ]
    },
    {
     "name": "stdout",
     "output_type": "stream",
     "text": [
      "  Starting inner iteration 001. Current err =  2.04189E-01\n",
      "  Starting inner iteration 002. Current err =  2.04177E-01\n",
      "* Starting outer iteration 011. Current err =  2.04164E-01\n",
      "  Starting inner iteration 000. Current err =  2.04164E-01\n",
      "  Starting inner iteration 001. Current err =  2.04145E-01\n",
      "  Starting inner iteration 002. Current err =  2.04135E-01\n",
      "  Starting inner iteration 003. Current err =  2.04131E-01\n",
      "  Starting inner iteration 004. Current err =  2.04129E-01\n",
      "* Starting outer iteration 012. Current err =  2.04120E-01\n",
      "  Starting inner iteration 000. Current err =  2.04120E-01\n",
      "  Starting inner iteration 001. Current err =  2.04108E-01\n",
      "  Starting inner iteration 002. Current err =  2.04101E-01\n",
      "  Starting inner iteration 003. Current err =  2.04095E-01\n",
      "  Starting inner iteration 004. Current err =  2.04093E-01\n",
      "* Starting outer iteration 013. Current err =  2.04089E-01\n",
      "  Starting inner iteration 000. Current err =  2.04089E-01\n",
      "  Starting inner iteration 001. Current err =  2.04073E-01\n",
      "* Starting outer iteration 014. Current err =  2.04083E-01\n",
      "  Starting inner iteration 000. Current err =  2.04083E-01\n",
      "  Starting inner iteration 001. Current err =  2.04067E-01\n",
      "  Starting inner iteration 002. Current err =  2.04064E-01\n",
      "  Starting inner iteration 003. Current err =  2.04061E-01\n",
      "  Starting inner iteration 004. Current err =  2.04059E-01\n",
      "  Starting inner iteration 005. Current err =  2.04059E-01\n",
      "  Starting inner iteration 006. Current err =  2.04056E-01\n",
      "  Starting inner iteration 007. Current err =  2.04052E-01\n",
      "* Starting outer iteration 015. Current err =  2.04053E-01\n",
      "  Starting inner iteration 000. Current err =  2.04053E-01\n",
      "  Starting inner iteration 001. Current err =  2.04049E-01\n",
      "* Starting outer iteration 016. Current err =  2.04048E-01\n",
      "  Starting inner iteration 000. Current err =  2.04048E-01\n"
     ]
    }
   ],
   "source": [
    "#4th training\n",
    "x4 = []\n",
    "for i in X_train.T[:,6001:8001]:\n",
    "    x4.append(i)\n",
    "y4 = y_train[6001:8001]\n",
    "\n",
    "myace = model.Model()\n",
    "\n",
    "myace.build_model_from_xy(x4, y4)\n",
    "\n",
    "myace.ace.write_transforms_to_file(fname = 'mytransforms4.txt')\n",
    "\n",
    "with open('mytransforms4.txt') as f:\n",
    "    for line in f.readlines():\n",
    "        temp = line.split()\n",
    "        df.append(temp)"
   ]
  },
  {
   "cell_type": "code",
   "execution_count": 53,
   "metadata": {},
   "outputs": [
    {
     "name": "stdout",
     "output_type": "stream",
     "text": [
      "* Starting outer iteration 000. Current err =  1.00000E+00\n",
      "  Starting inner iteration 000. Current err =  1.00000E+00\n",
      "  Starting inner iteration 001. Current err =  3.96770E-01\n",
      "  Starting inner iteration 002. Current err =  3.17544E-01\n",
      "  Starting inner iteration 003. Current err =  3.02249E-01\n",
      "  Starting inner iteration 004. Current err =  2.94154E-01\n",
      "  Starting inner iteration 005. Current err =  2.88777E-01\n",
      "  Starting inner iteration 006. Current err =  2.84890E-01\n",
      "  Starting inner iteration 007. Current err =  2.81667E-01\n",
      "  Starting inner iteration 008. Current err =  2.79242E-01\n",
      "  Starting inner iteration 009. Current err =  2.77031E-01\n",
      "  Starting inner iteration 010. Current err =  2.75074E-01\n",
      "  Starting inner iteration 011. Current err =  2.73260E-01\n",
      "  Starting inner iteration 012. Current err =  2.71241E-01\n",
      "  Starting inner iteration 013. Current err =  2.69127E-01\n",
      "  Starting inner iteration 014. Current err =  2.66669E-01\n",
      "  Starting inner iteration 015. Current err =  2.65394E-01\n",
      "  Starting inner iteration 016. Current err =  2.64414E-01\n",
      "  Starting inner iteration 017. Current err =  2.63443E-01\n",
      "  Starting inner iteration 018. Current err =  2.62529E-01\n",
      "  Starting inner iteration 019. Current err =  2.61717E-01\n",
      "  Starting inner iteration 020. Current err =  2.60924E-01\n",
      "  Starting inner iteration 021. Current err =  2.60266E-01\n",
      "  Starting inner iteration 022. Current err =  2.59669E-01\n",
      "  Starting inner iteration 023. Current err =  2.59105E-01\n",
      "  Starting inner iteration 024. Current err =  2.58631E-01\n",
      "  Starting inner iteration 025. Current err =  2.58202E-01\n",
      "  Starting inner iteration 026. Current err =  2.57808E-01\n",
      "  Starting inner iteration 027. Current err =  2.57431E-01\n",
      "  Starting inner iteration 028. Current err =  2.57091E-01\n",
      "  Starting inner iteration 029. Current err =  2.56781E-01\n",
      "  Starting inner iteration 030. Current err =  2.56486E-01\n",
      "  Starting inner iteration 031. Current err =  2.56205E-01\n",
      "  Starting inner iteration 032. Current err =  2.55959E-01\n",
      "  Starting inner iteration 033. Current err =  2.55734E-01\n",
      "  Starting inner iteration 034. Current err =  2.55529E-01\n",
      "  Starting inner iteration 035. Current err =  2.55339E-01\n",
      "  Starting inner iteration 036. Current err =  2.55177E-01\n",
      "  Starting inner iteration 037. Current err =  2.55020E-01\n",
      "  Starting inner iteration 038. Current err =  2.54875E-01\n",
      "  Starting inner iteration 039. Current err =  2.54744E-01\n",
      "  Starting inner iteration 040. Current err =  2.54624E-01\n",
      "  Starting inner iteration 041. Current err =  2.54521E-01\n",
      "  Starting inner iteration 042. Current err =  2.54425E-01\n",
      "  Starting inner iteration 043. Current err =  2.54331E-01\n",
      "  Starting inner iteration 044. Current err =  2.54227E-01\n",
      "  Starting inner iteration 045. Current err =  2.54144E-01\n",
      "  Starting inner iteration 046. Current err =  2.54072E-01\n",
      "  Starting inner iteration 047. Current err =  2.54001E-01\n",
      "  Starting inner iteration 048. Current err =  2.53936E-01\n",
      "  Starting inner iteration 049. Current err =  2.53874E-01\n",
      "  Starting inner iteration 050. Current err =  2.53814E-01\n",
      "  Starting inner iteration 051. Current err =  2.53765E-01\n",
      "  Starting inner iteration 052. Current err =  2.53712E-01\n",
      "  Starting inner iteration 053. Current err =  2.53664E-01\n",
      "  Starting inner iteration 054. Current err =  2.53620E-01\n",
      "  Starting inner iteration 055. Current err =  2.53575E-01\n",
      "  Starting inner iteration 056. Current err =  2.53532E-01\n",
      "  Starting inner iteration 057. Current err =  2.53495E-01\n",
      "  Starting inner iteration 058. Current err =  2.53453E-01\n",
      "  Starting inner iteration 059. Current err =  2.53425E-01\n",
      "  Starting inner iteration 060. Current err =  2.53399E-01\n",
      "  Starting inner iteration 061. Current err =  2.53379E-01\n",
      "  Starting inner iteration 062. Current err =  2.53349E-01\n",
      "  Starting inner iteration 063. Current err =  2.53326E-01\n",
      "  Starting inner iteration 064. Current err =  2.53306E-01\n",
      "  Starting inner iteration 065. Current err =  2.53287E-01\n",
      "  Starting inner iteration 066. Current err =  2.53272E-01\n",
      "  Starting inner iteration 067. Current err =  2.53258E-01\n",
      "  Starting inner iteration 068. Current err =  2.53242E-01\n",
      "  Starting inner iteration 069. Current err =  2.53230E-01\n",
      "  Starting inner iteration 070. Current err =  2.53218E-01\n",
      "  Starting inner iteration 071. Current err =  2.53210E-01\n",
      "  Starting inner iteration 072. Current err =  2.53198E-01\n",
      "  Starting inner iteration 073. Current err =  2.53184E-01\n",
      "  Starting inner iteration 074. Current err =  2.53169E-01\n",
      "  Starting inner iteration 075. Current err =  2.53164E-01\n",
      "  Starting inner iteration 076. Current err =  2.53152E-01\n",
      "  Starting inner iteration 077. Current err =  2.53134E-01\n",
      "  Starting inner iteration 078. Current err =  2.53127E-01\n",
      "  Starting inner iteration 079. Current err =  2.53120E-01\n",
      "  Starting inner iteration 080. Current err =  2.53110E-01\n",
      "  Starting inner iteration 081. Current err =  2.53103E-01\n",
      "  Starting inner iteration 082. Current err =  2.53099E-01\n",
      "  Starting inner iteration 083. Current err =  2.53077E-01\n",
      "  Starting inner iteration 084. Current err =  2.53068E-01\n",
      "  Starting inner iteration 085. Current err =  2.53059E-01\n",
      "  Starting inner iteration 086. Current err =  2.53057E-01\n",
      "  Starting inner iteration 087. Current err =  2.53052E-01\n",
      "  Starting inner iteration 088. Current err =  2.53046E-01\n",
      "  Starting inner iteration 089. Current err =  2.53045E-01\n",
      "  Starting inner iteration 090. Current err =  2.53044E-01\n",
      "  Starting inner iteration 091. Current err =  2.53041E-01\n",
      "* Starting outer iteration 001. Current err =  2.38988E-01\n",
      "  Starting inner iteration 000. Current err =  2.38988E-01\n",
      "  Starting inner iteration 001. Current err =  2.34976E-01\n",
      "  Starting inner iteration 002. Current err =  2.34701E-01\n",
      "* Starting outer iteration 002. Current err =  2.30524E-01\n",
      "  Starting inner iteration 000. Current err =  2.30524E-01\n",
      "  Starting inner iteration 001. Current err =  2.29009E-01\n",
      "  Starting inner iteration 002. Current err =  2.28917E-01\n",
      "  Starting inner iteration 003. Current err =  2.28913E-01\n",
      "* Starting outer iteration 003. Current err =  2.26995E-01\n",
      "  Starting inner iteration 000. Current err =  2.26995E-01\n",
      "  Starting inner iteration 001. Current err =  2.26802E-01\n",
      "  Starting inner iteration 002. Current err =  2.26689E-01\n",
      "  Starting inner iteration 003. Current err =  2.26627E-01\n",
      "  Starting inner iteration 004. Current err =  2.26599E-01\n",
      "  Starting inner iteration 005. Current err =  2.26570E-01\n",
      "  Starting inner iteration 006. Current err =  2.26545E-01\n",
      "  Starting inner iteration 007. Current err =  2.26519E-01\n",
      "  Starting inner iteration 008. Current err =  2.26489E-01\n",
      "  Starting inner iteration 009. Current err =  2.26460E-01\n",
      "  Starting inner iteration 010. Current err =  2.26433E-01\n",
      "  Starting inner iteration 011. Current err =  2.26399E-01\n",
      "  Starting inner iteration 012. Current err =  2.26373E-01\n",
      "  Starting inner iteration 013. Current err =  2.26349E-01\n",
      "  Starting inner iteration 014. Current err =  2.26326E-01\n",
      "  Starting inner iteration 015. Current err =  2.26304E-01\n",
      "  Starting inner iteration 016. Current err =  2.26281E-01\n",
      "  Starting inner iteration 017. Current err =  2.26259E-01\n",
      "  Starting inner iteration 018. Current err =  2.26239E-01\n",
      "  Starting inner iteration 019. Current err =  2.26218E-01\n",
      "  Starting inner iteration 020. Current err =  2.26200E-01\n",
      "  Starting inner iteration 021. Current err =  2.26182E-01\n",
      "  Starting inner iteration 022. Current err =  2.26167E-01\n",
      "  Starting inner iteration 023. Current err =  2.26153E-01\n",
      "  Starting inner iteration 024. Current err =  2.26137E-01\n",
      "  Starting inner iteration 025. Current err =  2.26121E-01\n",
      "  Starting inner iteration 026. Current err =  2.26106E-01\n",
      "  Starting inner iteration 027. Current err =  2.26090E-01\n",
      "  Starting inner iteration 028. Current err =  2.26078E-01\n",
      "  Starting inner iteration 029. Current err =  2.26065E-01\n",
      "  Starting inner iteration 030. Current err =  2.26055E-01\n",
      "  Starting inner iteration 031. Current err =  2.26039E-01\n",
      "  Starting inner iteration 032. Current err =  2.26027E-01\n",
      "  Starting inner iteration 033. Current err =  2.26019E-01\n",
      "  Starting inner iteration 034. Current err =  2.26009E-01\n",
      "  Starting inner iteration 035. Current err =  2.26002E-01\n"
     ]
    },
    {
     "name": "stdout",
     "output_type": "stream",
     "text": [
      "  Starting inner iteration 036. Current err =  2.25992E-01\n",
      "  Starting inner iteration 037. Current err =  2.25984E-01\n",
      "  Starting inner iteration 038. Current err =  2.25975E-01\n",
      "  Starting inner iteration 039. Current err =  2.25968E-01\n",
      "  Starting inner iteration 040. Current err =  2.25961E-01\n",
      "  Starting inner iteration 041. Current err =  2.25958E-01\n",
      "  Starting inner iteration 042. Current err =  2.25951E-01\n",
      "* Starting outer iteration 004. Current err =  2.24980E-01\n",
      "  Starting inner iteration 000. Current err =  2.24980E-01\n",
      "  Starting inner iteration 001. Current err =  2.24915E-01\n",
      "  Starting inner iteration 002. Current err =  2.24899E-01\n",
      "  Starting inner iteration 003. Current err =  2.24869E-01\n",
      "  Starting inner iteration 004. Current err =  2.24860E-01\n",
      "  Starting inner iteration 005. Current err =  2.24852E-01\n",
      "  Starting inner iteration 006. Current err =  2.24848E-01\n",
      "  Starting inner iteration 007. Current err =  2.24845E-01\n",
      "  Starting inner iteration 008. Current err =  2.24842E-01\n",
      "  Starting inner iteration 009. Current err =  2.24838E-01\n",
      "  Starting inner iteration 010. Current err =  2.24834E-01\n",
      "  Starting inner iteration 011. Current err =  2.24829E-01\n",
      "  Starting inner iteration 012. Current err =  2.24825E-01\n",
      "  Starting inner iteration 013. Current err =  2.24821E-01\n",
      "  Starting inner iteration 014. Current err =  2.24818E-01\n",
      "  Starting inner iteration 015. Current err =  2.24813E-01\n",
      "  Starting inner iteration 016. Current err =  2.24809E-01\n",
      "  Starting inner iteration 017. Current err =  2.24806E-01\n",
      "  Starting inner iteration 018. Current err =  2.24803E-01\n",
      "  Starting inner iteration 019. Current err =  2.24798E-01\n",
      "  Starting inner iteration 020. Current err =  2.24795E-01\n",
      "  Starting inner iteration 021. Current err =  2.24791E-01\n",
      "  Starting inner iteration 022. Current err =  2.24787E-01\n",
      "  Starting inner iteration 023. Current err =  2.24785E-01\n",
      "  Starting inner iteration 024. Current err =  2.24782E-01\n",
      "  Starting inner iteration 025. Current err =  2.24774E-01\n",
      "  Starting inner iteration 026. Current err =  2.24771E-01\n",
      "  Starting inner iteration 027. Current err =  2.24769E-01\n",
      "  Starting inner iteration 028. Current err =  2.24766E-01\n",
      "  Starting inner iteration 029. Current err =  2.24764E-01\n",
      "  Starting inner iteration 030. Current err =  2.24762E-01\n",
      "  Starting inner iteration 031. Current err =  2.24759E-01\n",
      "  Starting inner iteration 032. Current err =  2.24757E-01\n",
      "  Starting inner iteration 033. Current err =  2.24755E-01\n",
      "  Starting inner iteration 034. Current err =  2.24753E-01\n",
      "  Starting inner iteration 035. Current err =  2.24752E-01\n",
      "  Starting inner iteration 036. Current err =  2.24750E-01\n",
      "  Starting inner iteration 037. Current err =  2.24749E-01\n",
      "  Starting inner iteration 038. Current err =  2.24742E-01\n",
      "* Starting outer iteration 005. Current err =  2.24286E-01\n",
      "  Starting inner iteration 000. Current err =  2.24286E-01\n",
      "  Starting inner iteration 001. Current err =  2.24233E-01\n",
      "* Starting outer iteration 006. Current err =  2.24004E-01\n",
      "  Starting inner iteration 000. Current err =  2.24004E-01\n",
      "  Starting inner iteration 001. Current err =  2.23955E-01\n",
      "* Starting outer iteration 007. Current err =  2.23835E-01\n",
      "  Starting inner iteration 000. Current err =  2.23835E-01\n",
      "  Starting inner iteration 001. Current err =  2.23787E-01\n",
      "* Starting outer iteration 008. Current err =  2.23728E-01\n",
      "  Starting inner iteration 000. Current err =  2.23728E-01\n",
      "  Starting inner iteration 001. Current err =  2.23728E-01\n",
      "* Starting outer iteration 009. Current err =  2.23690E-01\n",
      "  Starting inner iteration 000. Current err =  2.23690E-01\n",
      "* Starting outer iteration 010. Current err =  2.23674E-01\n",
      "  Starting inner iteration 000. Current err =  2.23674E-01\n",
      "  Starting inner iteration 001. Current err =  2.23671E-01\n",
      "* Starting outer iteration 011. Current err =  2.23664E-01\n",
      "  Starting inner iteration 000. Current err =  2.23664E-01\n"
     ]
    }
   ],
   "source": [
    "#5th training\n",
    "x5 = []\n",
    "for i in X_train.T[:,8001:n_train+1]:\n",
    "    x5.append(i)\n",
    "y5 = y_train[8001:n_train+1]\n",
    "\n",
    "myace = model.Model()\n",
    "\n",
    "myace.build_model_from_xy(x5, y5)\n",
    "\n",
    "myace.ace.write_transforms_to_file(fname = 'mytransforms5.txt')\n",
    "\n",
    "with open('mytransforms5.txt') as f:\n",
    "    for line in f.readlines():\n",
    "        temp = line.split()\n",
    "        df.append(temp)"
   ]
  },
  {
   "cell_type": "code",
   "execution_count": 73,
   "metadata": {},
   "outputs": [],
   "source": [
    "df = []\n",
    "with open('mytransforms1.txt') as f:\n",
    "    for line in f.readlines():\n",
    "        temp = line.split()\n",
    "        df.append(temp)\n",
    "with open('mytransforms2.txt') as f:\n",
    "    for line in f.readlines():\n",
    "        temp = line.split()\n",
    "        df.append(temp)\n",
    "with open('mytransforms3.txt') as f:\n",
    "    for line in f.readlines():\n",
    "        temp = line.split()\n",
    "        df.append(temp)\n",
    "with open('mytransforms4.txt') as f:\n",
    "    for line in f.readlines():\n",
    "        temp = line.split()\n",
    "        df.append(temp)\n",
    "with open('mytransforms5.txt') as f:\n",
    "    for line in f.readlines():\n",
    "        temp = line.split()\n",
    "        df.append(temp)"
   ]
  },
  {
   "cell_type": "code",
   "execution_count": 74,
   "metadata": {},
   "outputs": [],
   "source": [
    "df_ = np.array(df).astype(np.float64)"
   ]
  },
  {
   "cell_type": "code",
   "execution_count": 75,
   "metadata": {},
   "outputs": [],
   "source": [
    "X = df_[:,1:]"
   ]
  },
  {
   "cell_type": "code",
   "execution_count": 76,
   "metadata": {},
   "outputs": [
    {
     "data": {
      "text/plain": [
       "(12384, 8)"
      ]
     },
     "execution_count": 76,
     "metadata": {},
     "output_type": "execute_result"
    }
   ],
   "source": [
    "np.shape(X)"
   ]
  },
  {
   "cell_type": "code",
   "execution_count": 77,
   "metadata": {},
   "outputs": [],
   "source": [
    "X = np.hstack((np.ones(12384).reshape(12384,1),X))"
   ]
  },
  {
   "cell_type": "code",
   "execution_count": 78,
   "metadata": {},
   "outputs": [],
   "source": [
    "Y = df_[:,0]"
   ]
  },
  {
   "cell_type": "code",
   "execution_count": 79,
   "metadata": {},
   "outputs": [],
   "source": [
    "beta4 = np.linalg.inv(X.T.dot(X)).dot(X.T).dot(Y)"
   ]
  },
  {
   "cell_type": "code",
   "execution_count": 80,
   "metadata": {},
   "outputs": [
    {
     "data": {
      "text/plain": [
       "array([8.52169897e-13, 1.05926244e+00, 1.06187193e+00, 9.27708757e-01,\n",
       "       1.07070756e+00, 1.11211388e+00, 1.10966853e+00, 1.09842886e+00,\n",
       "       1.00078039e+00])"
      ]
     },
     "execution_count": 80,
     "metadata": {},
     "output_type": "execute_result"
    }
   ],
   "source": [
    "beta4"
   ]
  },
  {
   "cell_type": "code",
   "execution_count": 81,
   "metadata": {},
   "outputs": [],
   "source": [
    "Yhat = X.dot(beta4)"
   ]
  },
  {
   "cell_type": "code",
   "execution_count": 82,
   "metadata": {},
   "outputs": [
    {
     "data": {
      "text/plain": [
       "array([ 1.06247175, -1.34970015,  0.35483904, ..., -1.59319785,\n",
       "       -0.92544747,  0.18334228])"
      ]
     },
     "execution_count": 82,
     "metadata": {},
     "output_type": "execute_result"
    }
   ],
   "source": [
    "Yhat"
   ]
  },
  {
   "cell_type": "code",
   "execution_count": 83,
   "metadata": {},
   "outputs": [],
   "source": [
    "SST = np.sum((Y-np.mean(Y))**2)\n",
    "SSRes = np.sum((Y-Yhat)**2)"
   ]
  },
  {
   "cell_type": "code",
   "execution_count": 84,
   "metadata": {},
   "outputs": [
    {
     "data": {
      "text/plain": [
       "0.7802617208331148"
      ]
     },
     "execution_count": 84,
     "metadata": {},
     "output_type": "execute_result"
    }
   ],
   "source": [
    "R2 = 1-SSRes/SST\n",
    "R2"
   ]
  },
  {
   "cell_type": "code",
   "execution_count": 85,
   "metadata": {},
   "outputs": [
    {
     "data": {
      "text/plain": [
       "0.2197382791672019"
      ]
     },
     "execution_count": 85,
     "metadata": {},
     "output_type": "execute_result"
    }
   ],
   "source": [
    "MSE = SSRes/n_train\n",
    "MSE"
   ]
  },
  {
   "cell_type": "code",
   "execution_count": 86,
   "metadata": {},
   "outputs": [
    {
     "data": {
      "text/plain": [
       "0.7793787945481649"
      ]
     },
     "execution_count": 86,
     "metadata": {},
     "output_type": "execute_result"
    }
   ],
   "source": [
    "R2_adj = 1-SSRes/(2000-9)/(SST/(2000-1))\n",
    "R2_adj"
   ]
  },
  {
   "cell_type": "code",
   "execution_count": 71,
   "metadata": {},
   "outputs": [],
   "source": [
    "ei = (Y - Yhat).reshape(12384,1)\n",
    "H = X.dot(np.linalg.inv(X.T.dot(X))).dot(X.T)\n",
    "\n",
    "\n",
    "Hii = np.diagonal(H).reshape(12384,1)\n",
    "S2_i = ((SSRes - ei**2)/(1-Hii))/(12384-9-1)\n",
    "\n",
    "ti = ei/np.sqrt(S2_i*(1-Hii))"
   ]
  },
  {
   "cell_type": "code",
   "execution_count": 73,
   "metadata": {},
   "outputs": [
    {
     "data": {
      "image/png": "[encoded data removed]",
      "text/plain": [
       "<Figure size 648x648 with 1 Axes>"
      ]
     },
     "metadata": {
      "needs_background": "light"
     },
     "output_type": "display_data"
    }
   ],
   "source": [
    "#plot R-student residuals\n",
    "\n",
    "plt.figure(figsize = (9,9))\n",
    "\n",
    "plt.scatter(Yhat.reshape(12384,1),ti)\n",
    "plt.xlabel(\"yi^hat\")\n",
    "plt.ylabel('ti')\n",
    "plt.axhline(y=0,c=\"red\")\n",
    "plt.savefig(\"aceplot.png\")"
   ]
  },
  {
   "cell_type": "code",
   "execution_count": 8,
   "metadata": {},
   "outputs": [],
   "source": [
    "x = X_train"
   ]
  },
  {
   "cell_type": "code",
   "execution_count": 16,
   "metadata": {},
   "outputs": [],
   "source": [
    "y = np.exp(y_train)"
   ]
  },
  {
   "cell_type": "code",
   "execution_count": 9,
   "metadata": {},
   "outputs": [],
   "source": [
    "x = np.hstack((np.ones(n_train).reshape(n_train,1),x))"
   ]
  },
  {
   "cell_type": "code",
   "execution_count": 17,
   "metadata": {},
   "outputs": [],
   "source": [
    "beta5 = np.linalg.inv(x.T.dot(x)).dot(x.T).dot(y)"
   ]
  },
  {
   "cell_type": "code",
   "execution_count": 18,
   "metadata": {},
   "outputs": [],
   "source": [
    "yhat = x.dot(beta5)"
   ]
  },
  {
   "cell_type": "code",
   "execution_count": 19,
   "metadata": {},
   "outputs": [],
   "source": [
    "SSRes = np.sum((y-yhat)**2)"
   ]
  },
  {
   "cell_type": "code",
   "execution_count": 20,
   "metadata": {},
   "outputs": [],
   "source": [
    "ei = (y - yhat).reshape(n_train,1)\n",
    "H = x.dot(np.linalg.inv(x.T.dot(x))).dot(x.T)\n",
    "\n",
    "\n",
    "Hii = np.diagonal(H).reshape(n_train,1)\n",
    "S2_i = ((SSRes - ei**2)/(1-Hii))/(n_train-9-1)\n",
    "\n",
    "ti = ei/np.sqrt(S2_i*(1-Hii))"
   ]
  },
  {
   "cell_type": "code",
   "execution_count": 22,
   "metadata": {},
   "outputs": [
    {
     "data": {
      "image/png": "[encoded data removed]",
      "text/plain": [
       "<Figure size 648x648 with 1 Axes>"
      ]
     },
     "metadata": {
      "needs_background": "light"
     },
     "output_type": "display_data"
    }
   ],
   "source": [
    "#plot R-student residuals\n",
    "\n",
    "plt.figure(figsize = (9,9))\n",
    "\n",
    "plt.scatter(yhat.reshape(n_train,1),ti)\n",
    "plt.xlabel(\"yi^hat\")\n",
    "plt.ylabel('ti')\n",
    "plt.axhline(y=0,c=\"red\")\n",
    "plt.savefig(\"ols_no1.png\")"
   ]
  },
  {
   "cell_type": "code",
   "execution_count": null,
   "metadata": {},
   "outputs": [],
   "source": []
  }
 ],
 "metadata": {
  "kernelspec": {
   "display_name": "Python 3",
   "language": "python",
   "name": "python3"
  },
  "language_info": {
   "codemirror_mode": {
    "name": "ipython",
    "version": 3
   },
   "file_extension": ".py",
   "mimetype": "text/x-python",
   "name": "python",
   "nbconvert_exporter": "python",
   "pygments_lexer": "ipython3",
   "version": "3.7.4"
  }
 },
 "nbformat": 4,
 "nbformat_minor": 2
}
